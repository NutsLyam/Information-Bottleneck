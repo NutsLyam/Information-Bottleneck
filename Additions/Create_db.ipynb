{
 "cells": [
  {
   "cell_type": "code",
   "execution_count": 4,
   "metadata": {
    "collapsed": true
   },
   "outputs": [],
   "source": [
    "#PostgreSQL\n",
    "import psycopg2\n",
    "from tqdm import tqdm, tqdm_notebook\n",
    "#MS SQL \n",
    "import pyodbc\n",
    "import re\n",
    "from nltk.tokenize import sent_tokenize, word_tokenize\n",
    "from random import randint\n",
    "import sqlite3"
   ]
  },
  {
   "cell_type": "code",
   "execution_count": 63,
   "metadata": {
    "collapsed": true
   },
   "outputs": [],
   "source": [
    "try:\n",
    "    conn = psycopg2.connect(\"dbname = 'News' user='postgres' host = 'localhost' password = '16052003'\" )\n",
    "except:\n",
    "    print('false')\n",
    "cur = conn.cursor()   "
   ]
  },
  {
   "cell_type": "code",
   "execution_count": 49,
   "metadata": {
    "collapsed": true
   },
   "outputs": [],
   "source": [
    "#MS SQL\n",
    "server = 'NUTS' \n",
    "database = 'MK_news_2000'\n",
    "username = '' \n",
    "password = '' \n",
    "cnxn = pyodbc.connect('DRIVER={SQL Server};SERVER='+server+';DATABASE='+database+';UID='+username+';PWD='+ password)\n",
    "cur_sql = cnxn.cursor()"
   ]
  },
  {
   "cell_type": "code",
   "execution_count": 50,
   "metadata": {},
   "outputs": [
    {
     "data": {
      "text/plain": [
       "2000"
      ]
     },
     "execution_count": 50,
     "metadata": {},
     "output_type": "execute_result"
    }
   ],
   "source": [
    "cmd = \"Select doc_text from Documents\"\n",
    "cur_sql.execute(cmd)\n",
    "w = cur_sql.fetchall()\n",
    "len(w)\n"
   ]
  },
  {
   "cell_type": "code",
   "execution_count": 125,
   "metadata": {
    "collapsed": true
   },
   "outputs": [],
   "source": [
    "for i in w[:2000]:\n",
    "    cmd = \"insert into Documents (doc_text) values (?)\"\n",
    "    cur_sql.execute(cmd,i[0])\n",
    "    cur_sql.commit()\n"
   ]
  },
  {
   "cell_type": "code",
   "execution_count": 121,
   "metadata": {},
   "outputs": [
    {
     "data": {
      "text/plain": [
       "('- В первый раз окунулась в прорубь пять лет назад - начала свой рассказ Юлия. - Мои коллеги давно отменяют все дела в этот день и ночью окунаются в прорубь. Мне, в какой-то момент, наверное, не хватало смелости сделать этот шаг, но в итоге, может и стыдно сказать, но в первый раз я окунулась на спор. Это произошло как-то само по себе. Все пошли, и я пошла. - Но ведь к этому должна быть подготовка. Это же опасно для здоровья просто так в мороз пойти и окунуться... - Сначала это было желание испытать себя: смогу ли я? Но после первого раза я поняла, что это совсем не страшно, и реально ощутила какое-то очищение и легкость. Конечно я слушала многочисленные рассказы, но все же не могла представить себе как это здорово и как ты прекрасно себя чувствуешь после этого. Кстати, после я не болела простудой и вообще жизнь как-то изменилась. Решились какие-то проблемы, многие заботы как будто реально смыло крещенской водой. - Вы сейчас окунаетесь в прорубь? - После этого случая я пошла к батюшке, чтобы он рассказал он рассказал мне подробнее об этом таинстве. Я стала понимать его истинный смысл. Дальше я уже окуналась осознанно. Именно он мне и рассказал мне о подготовке. - Поделитесь и с нами. - Конечно, лучше всего подготовиться к купанию в Крещенской Иордани. За неделю до этого надо начинать принимать контрастный душ по утрам и вечерам. Сначала десять секунд стоять под холодной водой, постепенно увеличивая время. После купания очень важно быстро растереться полотенцем, обязательно надеть теплые валенки или сапоги и выпить горячего чая. В этом году, к сожалению, я пропущу купания, по уважительной причине. Но обязательно поеду к проруби со своими ребятами, буду поддерживать их морально, подавать горячий чай и полотенца. В восторге от крещенского купания осталась певица Елена Князева: - Я не первый год собиралась, но страх, холод меня останавливал. В прошлом году решила, что искупаюсь, но хотелось сделать это в каком-то особенном месте, поэтому уговорила друзей поехать в Дивеево. Была наслышана о тамошних удивительных монастырях и купальнях которые оборудовали не так давно. Теперь там целый отдельный «городок», куда можно приехать пообщаться с работниками храмов, окунуться в святые источники, которые многим помогают побороться с различными болезнями. В минуты, как я окунулась в воду, почувствовала себя совершенно в другой реальности. Еще больше эмоциональных ощущений пришлось на первые секунды после того, как вылезла из купели. Мне казалось, что мое тело не понимало, что с ним произошло, сердце бешено колотилось, хотелось дарить всем радость и улыбку. Я вышла из воды будто обновленная, ощущала некий внутренний жар, возможно поэтому так и не почувствовала холод, которого боялась. Теперь для меня Дивеево является особенным местом, очень рада, что первое купание было именно там. Домой я поехала с большим оптимизмом, бодростью духа, в гармонии сама с собой. Думаю, что теперь это будет моей личной традицией.', )"
      ]
     },
     "execution_count": 121,
     "metadata": {},
     "output_type": "execute_result"
    }
   ],
   "source": []
  },
  {
   "cell_type": "code",
   "execution_count": null,
   "metadata": {
    "collapsed": true
   },
   "outputs": [],
   "source": []
  },
  {
   "cell_type": "code",
   "execution_count": 61,
   "metadata": {
    "collapsed": true
   },
   "outputs": [],
   "source": [
    "def pre_pro(text):\n",
    "    text = re.sub(r'\\xa0',' ',text)\n",
    "    text  = re.sub(r'\\n',' ',text)\n",
    "    text  = re.sub(r'\\'', '',text)\n",
    "    text  = re.sub(r'\\[', '',text)\n",
    "    text  = re.sub(r'\\]', '',text)\n",
    "    text  = re.sub(r'\\\\', '',text)\n",
    "    return text\n",
    "    "
   ]
  },
  {
   "cell_type": "code",
   "execution_count": 2,
   "metadata": {
    "collapsed": true
   },
   "outputs": [],
   "source": [
    "conn = sqlite3.connect(\"news_base.db\") \n",
    "cursor = conn.cursor()"
   ]
  },
  {
   "cell_type": "code",
   "execution_count": 3,
   "metadata": {
    "collapsed": true
   },
   "outputs": [],
   "source": [
    "cmd = \"Select article, title from News  limit 30000\"\n",
    "cursor.execute(cmd)\n"
   ]
  },
  {
   "cell_type": "code",
   "execution_count": 8,
   "metadata": {},
   "outputs": [
    {
     "data": {
      "text/plain": [
       "(\"['нападающий мадридского «реала» и сборной португалии по футболу криштиану роналду приобрел отель в монте-карло. об этом сообщает marca.', 'футболист купил недвижимость за 140 миллионов евро у компании the proto group, владельцем которой является итальянский бизнесмен алессандро прото. он же в августе продал роналду апартаменты в нью-йоркском небоскребе за 16 миллионов евро.', '11 января криштиану роналду ', 'уступил', ' аргентинскому нападающему «барселоны» в голосовании за «золотой мяч» фифа по итогам 2015 года, утратив звание лучшего футболиста мира, которое удерживал с 2013 года.', 'в декабре появилась ', 'информация', ', что роналду откроет сеть отелей в португалии, мадриде и нью-йорке под именным брендом cr7. в проект форвард вложил 37 миллионов евро.', 'в мае прошлого года роналду был признан самым богатым футболистом мира. его годовой доход с учетом зарплаты в «реале», рекламных и спонсорских контрактов составил 73 миллиона евро.']\",\n",
       " 'Роналду купил отель в Монте-Карло за 140 миллионов евро')"
      ]
     },
     "execution_count": 8,
     "metadata": {},
     "output_type": "execute_result"
    }
   ],
   "source": [
    "w[20203]"
   ]
  },
  {
   "cell_type": "code",
   "execution_count": null,
   "metadata": {
    "collapsed": true
   },
   "outputs": [],
   "source": []
  },
  {
   "cell_type": "code",
   "execution_count": 62,
   "metadata": {},
   "outputs": [
    {
     "name": "stdout",
     "output_type": "stream",
     "text": [
      "4000\n"
     ]
    }
   ],
   "source": [
    "#для моих новостей\n",
    "\n",
    "#cmd = \"Select article, title from News  limit 20000\"\n",
    "#cursor.execute(cmd)\n",
    "\n",
    "\n",
    "#w = cursor.fetchall()\n",
    "print(len(w))\n",
    "K = 1000\n",
    "k=0\n",
    "while k<K:\n",
    "    item = w.pop(randint(0,len(w)))\n",
    "    (full_new, title) = item\n",
    "    if full_new is not None and len(full_new)>400:\n",
    "        full_new = pre_pro(full_new)\n",
    "        if title is None:\n",
    "            title = ''\n",
    "        title = pre_pro(title)\n",
    "        cmd = \"\"\"insert into Documents (doc_text,title) values (?,?) \"\"\"\n",
    "        cur_sql.execute(cmd, (full_new,title))\n",
    "        cur_sql.commit()\n",
    "        k+=1\n",
    "         \n",
    "\n",
    "         "
   ]
  },
  {
   "cell_type": "code",
   "execution_count": 31,
   "metadata": {},
   "outputs": [
    {
     "data": {
      "text/plain": [
       "1709"
      ]
     },
     "execution_count": 31,
     "metadata": {},
     "output_type": "execute_result"
    }
   ],
   "source": [
    "a = w[0]\n",
    "len(a[0])\n"
   ]
  },
  {
   "cell_type": "code",
   "execution_count": 32,
   "metadata": {
    "collapsed": true
   },
   "outputs": [],
   "source": [
    "f = 'Все, звучит финальный свисток! \"Барселона\" проигрывала \"Атлетико\" по ходу матча со счетом 0:1, но во втором тайме смогла собраться и забить два мяча! У гостей отличился Фернандо Торрес, а у хозяев дубль оформил Луис Суарес. Ждем ответной встречи! На этом все, дорогие друзья'"
   ]
  },
  {
   "cell_type": "code",
   "execution_count": 33,
   "metadata": {},
   "outputs": [
    {
     "data": {
      "text/plain": [
       "274"
      ]
     },
     "execution_count": 33,
     "metadata": {},
     "output_type": "execute_result"
    }
   ],
   "source": [
    "len(f)"
   ]
  },
  {
   "cell_type": "code",
   "execution_count": 3,
   "metadata": {},
   "outputs": [
    {
     "name": "stdout",
     "output_type": "stream",
     "text": [
      "Microsoft SQL Server 2014 (SP1-GDR) (KB4019091) - 12.0.4237.0 (X64) \n",
      "\tJul  5 2017 22:03:42 \n",
      "\tCopyright (c) Microsoft Corporation\n",
      "\tWeb Edition (64-bit) on Windows NT 6.3 <X64> (Build 9600: )\n",
      "\n"
     ]
    }
   ],
   "source": [
    "cursor.execute(\"SELECT @@version;\") \n",
    "row = cursor.fetchone() \n",
    "while row: \n",
    "    print( row[0] )\n",
    "    row = cursor.fetchone()"
   ]
  },
  {
   "cell_type": "code",
   "execution_count": 28,
   "metadata": {},
   "outputs": [
    {
     "name": "stdout",
     "output_type": "stream",
     "text": [
      "Защита главы Фонда борьбы с коррупцией Алексея Навального подала апелляцию на приговор по результатам повторного рассмотрения судом по «делу «Кировлеса». Об этом сообщает «Интерфакс» со ссылкой на адвоката политика Вадима Кобзева. По словам Кобзева, подана совместная жалоба на решения суда с защитниками предпринимателя Петра Офицерова. Защита просит «приговор отменить и прекратить уголовное преследование наших подзащитных в связи с их непричастностью и отсутствием состава и события преступления». Ленинский суд Кирова повторно вынес приговор по «делу «Кировлеса» 8 февраля. Судья признал Навального виновным в хищении 16 млн руб. путем растраты, а Офицерова — в пособничестве данному преступлению. Приговор вступит в законную силу только после рассмотрения жалобы Кировским областным судом. Судья приговорил Навального и Офицерова к условным срокам: пяти и четырем годам соответственно. Также осужденным назначены штрафы по 500 тыс. руб., которые были зачтены, так как осужденные оплатили их уже по итогам первого приговора. \n",
      "Защита Навального и Офицерова подала жалобу по «делу «Кировлеса»\n",
      "None\n",
      "Алексей Навальный и Петр Офицеров обжаловали приговор по «делу «Кировлеса». Теперь приговор вступит в законную силу только после рассмотрения жалобы судом: \n"
     ]
    }
   ],
   "source": [
    "row = cur.fetchone() \n",
    "print(row[0])\n",
    "print(row[1])\n",
    "print(row[2])\n",
    "print(row[3])\n",
    "cmd = \"\"\"insert into Documents (doc_text,title,ann_site,ann_vk) values (?,?,?,?) \"\"\"\n",
    "cursor.execute(cmd, (row[0],row[1],row[2],row[3]))\n",
    "cursor.commit() "
   ]
  },
  {
   "cell_type": "code",
   "execution_count": 57,
   "metadata": {},
   "outputs": [
    {
     "data": {
      "text/plain": [
       "20000"
      ]
     },
     "execution_count": 57,
     "metadata": {},
     "output_type": "execute_result"
    }
   ],
   "source": [
    "w = cur.fetchall()\n",
    "len(w)\n"
   ]
  },
  {
   "cell_type": "code",
   "execution_count": 42,
   "metadata": {
    "collapsed": true
   },
   "outputs": [],
   "source": []
  },
  {
   "cell_type": "code",
   "execution_count": 6,
   "metadata": {
    "collapsed": true
   },
   "outputs": [],
   "source": [
    "#рондомный выбор документов\n",
    "w = cur.fetchall()\n",
    "K = 1000\n",
    "k=0\n",
    "while k<K:\n",
    "    item = w.pop(randint(0,len(w)))\n",
    "    (full_new, title) = item\n",
    "    if full_new is not None and len(full_new)>400:\n",
    "        full_new = pre_pro(full_new)\n",
    "        if title is None:\n",
    "            title = ''\n",
    "        title = pre_pro(title)\n",
    "        cmd = \"\"\"insert into Documents (doc_text,title) values (?,?) \"\"\"\n",
    "        cur_sql.execute(cmd, (full_new,title))\n",
    "        cur_sql.commit()\n",
    "        k+=1"
   ]
  },
  {
   "cell_type": "code",
   "execution_count": null,
   "metadata": {
    "collapsed": true
   },
   "outputs": [],
   "source": []
  },
  {
   "cell_type": "code",
   "execution_count": 99,
   "metadata": {
    "collapsed": true
   },
   "outputs": [],
   "source": [
    "cmd =  \"select full_new , url_new from news limit 20000\"\n",
    "cur.execute(cmd)\n",
    "w = cur.fetchall()"
   ]
  },
  {
   "cell_type": "code",
   "execution_count": 105,
   "metadata": {},
   "outputs": [
    {
     "data": {
      "text/plain": [
       "20000"
      ]
     },
     "execution_count": 105,
     "metadata": {},
     "output_type": "execute_result"
    }
   ],
   "source": [
    "len(w)"
   ]
  },
  {
   "cell_type": "code",
   "execution_count": 108,
   "metadata": {
    "collapsed": true
   },
   "outputs": [],
   "source": [
    "for item in w:\n",
    "    a = re.split(r'/',item[1])\n",
    "    if a[2]=='www.mk.ru':\n",
    "        \n",
    "        if item[0] is not None and len(item[0])>400:\n",
    "            cmd = \"\"\"insert into Documents (doc_text,category) values (?,?) \"\"\"\n",
    "            cur_sql.execute(cmd, (pre_pro(item[0]),a[3]))\n",
    "            cur_sql.commit()"
   ]
  },
  {
   "cell_type": "code",
   "execution_count": null,
   "metadata": {
    "collapsed": true
   },
   "outputs": [],
   "source": []
  },
  {
   "cell_type": "code",
   "execution_count": 44,
   "metadata": {},
   "outputs": [
    {
     "data": {
      "text/plain": [
       "3875"
      ]
     },
     "execution_count": 44,
     "metadata": {},
     "output_type": "execute_result"
    }
   ],
   "source": [
    "len(w)"
   ]
  },
  {
   "cell_type": "code",
   "execution_count": 31,
   "metadata": {},
   "outputs": [
    {
     "data": {
      "text/plain": [
       "29"
      ]
     },
     "execution_count": 31,
     "metadata": {},
     "output_type": "execute_result"
    }
   ],
   "source": [
    "w[0]\n",
    "len(sent_tokenize(w[0][0]))"
   ]
  },
  {
   "cell_type": "code",
   "execution_count": 51,
   "metadata": {},
   "outputs": [],
   "source": [
    "part_id = 0\n",
    "\n",
    "for doc_id, t in enumerate(w):\n",
    "    text = sent_tokenize(t[0])\n",
    "    length = len(text)\n",
    "    mod =length%10 #остаток от деления\n",
    "\n",
    "    div = length//10\n",
    "    if mod<6:\n",
    "        for i in range(div-1) :\n",
    "            \n",
    "            part_text = (text[i*10: (i+1)*10])\n",
    "            cmd = \"\"\"insert into Parts_of_documents ( doc_id, part_text) values (?,?)\"\"\"\n",
    "            cur_sql.execute(cmd,( doc_id,str(part_text)))\n",
    "            cur_sql.commit()          \n",
    "            #print((part_text))\n",
    "            #print(\"doc_id \"+str(doc_id) + \"  part_id\" + str(part_id) +\"   \"+ str(length) + \" \"+  str(part_text))\n",
    "            \n",
    "            #part_id+=1\n",
    "                                 \n",
    "        part_text = (text[ (div-1)*10:])\n",
    "        cmd = \"\"\"insert into Parts_of_documents (doc_id, part_text) values (?,?)\"\"\"\n",
    "        cur_sql.execute(cmd,(doc_id,str(part_text)))\n",
    "        cur_sql.commit()                               \n",
    "        #print(\"doc_id \"+str(doc_id) + \"  part_id\" + str(part_id) +\"   \" + str(length) + \" \"+ str(part_text))\n",
    "        #part_id+=1 \n",
    "        \n",
    "    else : \n",
    "        for i in range(div+1) :                    \n",
    "            part_text = (text[i*10: (i+1)*10])\n",
    "            cmd = \"\"\"insert into Parts_of_documents ( doc_id, part_text) values (?,?)\"\"\"\n",
    "            cur_sql.execute(cmd,( doc_id,str(part_text)))\n",
    "            cur_sql.commit()            \n",
    "            #print(part_text)\n",
    "            #print(len(part_text))\n",
    "            #print(\"doc_id \"+str(doc_id) + \"  part_id \" + str(part_id) +\"   \" + str(length) + \" \"+  str(part_text))\n",
    "            \n",
    "            #part_id+=1\n",
    "    \n",
    "    "
   ]
  },
  {
   "cell_type": "code",
   "execution_count": 21,
   "metadata": {},
   "outputs": [
    {
     "data": {
      "text/plain": [
       "['После купания очень важно быстро растереться полотенцем, обязательно надеть теплые валенки или сапоги и выпить горячего чая.',\n",
       " 'В этом году, к сожалению, я пропущу купания, по уважительной причине.',\n",
       " 'Но обязательно поеду к проруби со своими ребятами, буду поддерживать их морально, подавать горячий чай и полотенца.',\n",
       " 'В восторге от крещенского купания осталась певица Елена Князева: - Я не первый год собиралась, но страх, холод меня останавливал.',\n",
       " 'В прошлом году решила, что искупаюсь, но хотелось сделать это в каком-то особенном месте, поэтому уговорила друзей поехать в Дивеево.',\n",
       " 'Была наслышана о тамошних удивительных монастырях и купальнях которые оборудовали не так давно.',\n",
       " 'Теперь там целый отдельный «городок», куда можно приехать пообщаться с работниками храмов, окунуться в святые источники, которые многим помогают побороться с различными болезнями.',\n",
       " 'В минуты, как я окунулась в воду, почувствовала себя совершенно в другой реальности.',\n",
       " 'Еще больше эмоциональных ощущений пришлось на первые секунды после того, как вылезла из купели.',\n",
       " 'Мне казалось, что мое тело не понимало, что с ним произошло, сердце бешено колотилось, хотелось дарить всем радость и улыбку.']"
      ]
     },
     "execution_count": 21,
     "metadata": {},
     "output_type": "execute_result"
    }
   ],
   "source": [
    "part_text"
   ]
  },
  {
   "cell_type": "code",
   "execution_count": null,
   "metadata": {
    "collapsed": true
   },
   "outputs": [],
   "source": []
  }
 ],
 "metadata": {
  "kernelspec": {
   "display_name": "Python 3",
   "language": "python",
   "name": "python3"
  },
  "language_info": {
   "codemirror_mode": {
    "name": "ipython",
    "version": 3
   },
   "file_extension": ".py",
   "mimetype": "text/x-python",
   "name": "python",
   "nbconvert_exporter": "python",
   "pygments_lexer": "ipython3",
   "version": "3.6.3"
  }
 },
 "nbformat": 4,
 "nbformat_minor": 2
}
