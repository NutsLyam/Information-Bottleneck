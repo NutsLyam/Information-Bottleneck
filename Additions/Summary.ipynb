{
 "cells": [
  {
   "cell_type": "code",
   "execution_count": 184,
   "metadata": {
    "collapsed": true
   },
   "outputs": [],
   "source": [
    "import numpy as np\n",
    "import nltk\n",
    "from nltk.corpus import stopwords\n",
    "from nltk.tokenize import sent_tokenize, word_tokenize\n",
    "import math\n",
    "\n",
    "import pymorphy2\n",
    "import re\n",
    "from collections import defaultdict\n",
    "\n",
    "from tqdm import tqdm, tqdm_notebook\n",
    "from collections import namedtuple,defaultdict\n",
    "import numpy as np\n",
    "\n",
    "import sqlite3\n",
    "import psycopg2\n",
    "\n",
    "\n",
    "import time\n",
    "\n",
    "#MS SQL \n",
    "import pyodbc"
   ]
  },
  {
   "cell_type": "code",
   "execution_count": 185,
   "metadata": {
    "collapsed": true
   },
   "outputs": [],
   "source": [
    "#MS SQL\n",
    "server = 'NUTS' \n",
    "database = 'MK_news_2000'\n",
    "username = '' \n",
    "password = '' \n",
    "cnxn = pyodbc.connect('DRIVER={SQL Server};SERVER='+server+';DATABASE='+database+';UID='+username+';PWD='+ password)\n",
    "cur_sql = cnxn.cursor()"
   ]
  },
  {
   "cell_type": "code",
   "execution_count": 186,
   "metadata": {},
   "outputs": [
    {
     "data": {
      "text/plain": [
       "'Все произошло 11 октября прошло года. Тогда расквартированный в Олонгапо 20-летний уроженец Массачусетса Джозеф Скотт Пембертон, являвшийся военнослужащим морской пехоты США, после службы решил зайти в местный бар. Там он познакомился с 26-летней Дженнифер, не зная, что девушка на самом деле мужчина-трансгендер, то есть олицетворяющий себя человеком другого пола. После этого молодые люди поехали в отель, сняли там номер и предались утехам. На суде морпех рассказал, что Дженнифер с отличием занималась с ним оральным сексом, а он провел у нее рукой между ног и тут обнаружил половой член. Американский военный, который даже в кошмарном сне не мог себе представить близость с другим мужчиной, настолько рассвирепел, что сначала придушил трансгендера, а затем завершил дело в туалете, утопив партнера в унитазе, передает Gaystarnews.com. 1 декабря 2015 года районный суд в Олонгапо Сити приговорил американца к 12 годам лишения свободы. Однако, адвокаты заявили, что он еще легко отделался. Ему грозило до 40 лет лишения свободы за умышленное убийство, но на суде защита смогла доказать, что убийство было непредумышленным. Суд также обязал Пембертона выплатить семье жертвы $91,571 компенсации утраченного заработка, $3,291 расходов на погребение, $1,060 в качестве компенсации морального вреда и $636 в виде штрафных убытков.'"
      ]
     },
     "execution_count": 186,
     "metadata": {},
     "output_type": "execute_result"
    }
   ],
   "source": [
    "num = 509\n",
    "cmd = \"Select doc_text from Documents where id=?\"\n",
    "cur_sql.execute(cmd,num)\n",
    "data = cur_sql.fetchone()[0]\n",
    "data"
   ]
  },
  {
   "cell_type": "code",
   "execution_count": 187,
   "metadata": {
    "collapsed": true
   },
   "outputs": [],
   "source": [
    "def f_sort(n, r):\n",
    "    l = []\n",
    "    for i in range(n):\n",
    "        maxi = r.argmax()\n",
    "        l.append(maxi)\n",
    "        r[maxi] = 0\n",
    "    return l\n",
    "\n",
    "    \n",
    "def parse_text(text):\n",
    "    #print(type(text))\n",
    "    words = (word for word in re.split('\\W+', text) if (len(word) >0 )&( analyzer.normal_forms(word)[0].lower() not in stopWords ))\n",
    "    lexems = (analyzer.normal_forms(word)[0] for word in words)\n",
    "    \n",
    "    return list(lexems)    \n",
    "    \n",
    "def s(l): # овзвр вес, но в случае просто суммируется\n",
    "    weight = 0\n",
    "    for word in l:\n",
    "        weight+=mi_dict[new_word_dict[word]][0]\n",
    "    return weight\n",
    "\n",
    "def sent_weight(l,number_main_words):  #возвращает вес предложения\n",
    "    weights=[]\n",
    "    for word in l:\n",
    "        weights.append(mi_dict[new_word_dict[word]][0])\n",
    "    weights = np.array(weights)\n",
    "    weight = np.sum(weights[:number_main_words])\n",
    "    return weight"
   ]
  },
  {
   "cell_type": "code",
   "execution_count": 188,
   "metadata": {
    "collapsed": true
   },
   "outputs": [],
   "source": [
    "cmd = \"select * from Doc_to_claster_probability where doc_id = ?\"\n",
    "cur_sql.execute(cmd,num)\n",
    "distr=[]\n",
    "for i in cur_sql.fetchone()[1:]:\n",
    "    distr.append(i)\n",
    "distr = np.array(distr)\n",
    "claster = distr.argmax()\n",
    "\n",
    "\n",
    "\n"
   ]
  },
  {
   "cell_type": "code",
   "execution_count": 189,
   "metadata": {},
   "outputs": [
    {
     "data": {
      "text/plain": [
       "array([  1.78176863e-08,   0.00000000e+00,   7.63817105e-03,\n",
       "         1.06687917e-18,   4.73470268e-08,   1.12594666e-08,\n",
       "         9.92361753e-01])"
      ]
     },
     "execution_count": 189,
     "metadata": {},
     "output_type": "execute_result"
    }
   ],
   "source": [
    "distr\n"
   ]
  },
  {
   "cell_type": "code",
   "execution_count": null,
   "metadata": {
    "collapsed": true
   },
   "outputs": [],
   "source": []
  },
  {
   "cell_type": "code",
   "execution_count": 190,
   "metadata": {},
   "outputs": [
    {
     "name": "stderr",
     "output_type": "stream",
     "text": [
      "100%|█████████████████████████████████| 38300/38300 [00:00<00:00, 77580.24it/s]\n"
     ]
    }
   ],
   "source": [
    "#MI_(num)\n",
    "cmd = \"select mi from MI_6\"\n",
    "cur_sql.execute(cmd)\n",
    "MI = cur_sql.fetchall()\n",
    "\n",
    "#словарь слово ключ : индекс слова, значение : вес\n",
    "mi_dict={}\n",
    "for i, mi in enumerate(MI):\n",
    "    mi_dict[i] = mi\n",
    "\n",
    "# переопределение словаря, теперь ключ: слово, значение :индекс\n",
    "new_word_dict = {}\n",
    "cmd = \"select id, name from Words\"\n",
    "cur_sql.execute(cmd)\n",
    "for i, word in tqdm(cur_sql.fetchall()):\n",
    "    new_word_dict[word] = i "
   ]
  },
  {
   "cell_type": "code",
   "execution_count": null,
   "metadata": {
    "collapsed": true
   },
   "outputs": [],
   "source": [
    "\n",
    "    \n",
    "    \n",
    "\n"
   ]
  },
  {
   "cell_type": "code",
   "execution_count": null,
   "metadata": {
    "collapsed": true
   },
   "outputs": [],
   "source": []
  },
  {
   "cell_type": "code",
   "execution_count": 195,
   "metadata": {},
   "outputs": [
    {
     "name": "stdout",
     "output_type": "stream",
     "text": [
      "1 Тогда расквартированный в Олонгапо 20-летний уроженец Массачусетса Джозеф Скотт Пембертон, являвшийся военнослужащим морской пехоты США, после службы решил зайти в местный бар. 25\n",
      "4 На суде морпех рассказал, что Дженнифер с отличием занималась с ним оральным сексом, а он провел у нее рукой между ног и тут обнаружил половой член. 29\n",
      "5 Американский военный, который даже в кошмарном сне не мог себе представить близость с другим мужчиной, настолько рассвирепел, что сначала придушил трансгендера, а затем завершил дело в туалете, утопив партнера в унитазе, передает Gaystarnews.com. 40\n",
      "9 Суд также обязал Пембертона выплатить семье жертвы $91,571 компенсации утраченного заработка, $3,291 расходов на погребение, $1,060 в качестве компенсации морального вреда и $636 в виде штрафных убытков. 34\n"
     ]
    }
   ],
   "source": [
    "analyzer = pymorphy2.MorphAnalyzer() \n",
    "stopWords = stopwords.words('russian')\n",
    "stopWords.extend(['что', 'это', 'так', 'вот','ещё', 'свой' , 'быть','й', 'как', 'в', '—', 'год','к', 'на','свой', 'который', 'е','кстати', 'также'])\n",
    "\n",
    "sentences = sent_tokenize(data)\n",
    "sentence_weight=[]\n",
    "for i,sent in enumerate(sentences):\n",
    "    parsed_text = parse_text(sent)\n",
    "    sentence_weight.append(s(parsed_text))\n",
    "    \n",
    "sentence_weight = np.array(sentence_weight)\n",
    "len(sentences)\n",
    "x = f_sort(4,sentence_weight.copy())\n",
    "x = sorted(x)\n",
    "for i in x:\n",
    "    print(i,sentences[i],len(word_tokenize(sentences[i])))\n"
   ]
  },
  {
   "cell_type": "code",
   "execution_count": null,
   "metadata": {
    "collapsed": true
   },
   "outputs": [],
   "source": []
  },
  {
   "cell_type": "code",
   "execution_count": 183,
   "metadata": {},
   "outputs": [
    {
     "name": "stdout",
     "output_type": "stream",
     "text": [
      "Number of sent = 40\n",
      "0 Как ранее писал «МК», не стоит ожидать от Трампа больше, чем он действительно способен сделать: так, например, если часть санкций в отношении России Трамп может отменить своим президентским указом, то для отмены другой части санкций требуется одобрение Конгресса — который вовсе не обязательно согласится. 53\n",
      "1 Однако не все россияне, привыкшие к политической нестабильности последних двух лет, сразу могут сориентироваться: что принесет указ, принятый в заокеанских «верхах», простым жителям нашей страны? 33\n",
      "2 О возможных ожиданиях рассказал в беседе с корреспондентом «МК» экономист Владислав Гинько: – Прежде всего нужно вспомнить слова Владимира Путина на одной из пресс-конференций — он сказал, что Россия готова отменить все контрсанкции при условии, что будут отменены именно санкции против нас. 48\n",
      "4 Но напомним, что были приняты меры против ввоза некоторых продуктов питания из 28 стран Евросоюза, США, Канады, Австралии и Новой Зеландии — то есть вопрос еще и в том, затронет ли диалог России и Америки Европу. 42\n",
      "10 Дело в том, что в этот кризис наш потребитель продемонстрировал небывалый патриотизм, оказался готов сознательно отказываться от импортных товаров. 22\n",
      "21 Ведь, например, о запрете сыра только ленивый не говорил... - Подавляющее большинство населения уже привыкло к отечественной продукции. 22\n",
      "22 Да и не по карману многим были французский или итальянский камамбер, бри или пармезан. 16\n",
      "24 Все остальные отреагируют на изменения только тогда, когда существенно снизятся цены — грубо говоря, наш потребитель не готов покупать сыр дороже тысячи рублей за килограмм. 28\n",
      "25 То же самое касается, например, польских яблок — я думаю, в этом секторе торговцы очень медленно будут восстанавливать позиции. 23\n",
      "33 Да, у нас есть люди, которые готовы покупать отечественные фермерские продукты за бешеные деньги, если на них наклеена этикетка «эко». 26\n",
      "35 Пока что наши производители отлично доказали, что они могут работать в тепличных условиях — теперь пусть они докажут, что могут работать в условиях жесткой конкуренции. 28\n",
      "37 Однако, как возражает коллеге экономист Вадим Ткаченко, не стоит забывать о том, что представители Европейского союза ранее заявили о том, что санкции против России продлены как минимум до лета 2017 года. 36\n",
      "38 По словам верховного представителя ЕС по по иностранным делам и политике безопасности Федерики Могерини, решение Евросоюза никак не зависит от шагов США — поэтому не стоит раньше времени объявлять о прекращении продуктового эмбарго. 35\n"
     ]
    }
   ],
   "source": [
    "\n",
    "        \n",
    "N = 20 # кол-во слов для оценки  \n",
    "\n",
    "sentences = sent_tokenize(data)\n",
    "print(\"Number of sent = \"+str(len(sentences)))\n",
    "sentence_weight=[]\n",
    "for n,sent in enumerate(sentences):\n",
    "    parsed_text = parse_text(sent)\n",
    "    if len(parsed_text) >N:      \n",
    "        sentence_weight.append(sent_weight(parsed_text,N))\n",
    "    else: \n",
    "        weight = 0\n",
    "        for word in parsed_text:\n",
    "            weight+=(mi_dict[new_word_dict[word]][0])\n",
    "        sentence_weight.append(weight)\n",
    "        \n",
    "            \n",
    "sentence_weight = np.array(sentence_weight)\n",
    "x = f_sort(13,sentence_weight.copy())\n",
    "x = sorted(x)\n",
    "for i in x:\n",
    "    print(i,sentences[i], len(word_tokenize(sentences[i])))        \n",
    "        \n"
   ]
  },
  {
   "cell_type": "code",
   "execution_count": 116,
   "metadata": {},
   "outputs": [
    {
     "data": {
      "text/plain": [
       "'С. С. С. Р. чемпиона'"
      ]
     },
     "execution_count": 116,
     "metadata": {},
     "output_type": "execute_result"
    }
   ],
   "source": [
    "a = sent_tokenize('С. С. С. Р. чемпиона')\n",
    "a[0]"
   ]
  },
  {
   "cell_type": "code",
   "execution_count": null,
   "metadata": {
    "collapsed": true
   },
   "outputs": [],
   "source": []
  },
  {
   "cell_type": "code",
   "execution_count": null,
   "metadata": {
    "collapsed": true
   },
   "outputs": [],
   "source": []
  }
 ],
 "metadata": {
  "kernelspec": {
   "display_name": "Python 3",
   "language": "python",
   "name": "python3"
  },
  "language_info": {
   "codemirror_mode": {
    "name": "ipython",
    "version": 3
   },
   "file_extension": ".py",
   "mimetype": "text/x-python",
   "name": "python",
   "nbconvert_exporter": "python",
   "pygments_lexer": "ipython3",
   "version": "3.6.3"
  }
 },
 "nbformat": 4,
 "nbformat_minor": 2
}
