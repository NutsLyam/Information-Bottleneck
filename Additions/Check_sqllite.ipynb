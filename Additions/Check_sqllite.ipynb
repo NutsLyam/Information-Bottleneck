{
 "cells": [
  {
   "cell_type": "code",
   "execution_count": 24,
   "metadata": {
    "collapsed": true
   },
   "outputs": [],
   "source": [
    "import numpy as np\n",
    "import nltk\n",
    "from nltk.corpus import stopwords\n",
    "from nltk.tokenize import sent_tokenize, word_tokenize\n",
    "import math\n",
    "\n",
    "import pymorphy2\n",
    "import re\n",
    "from collections import defaultdict\n",
    "\n",
    "from tqdm import tqdm, tqdm_notebook\n",
    "import bisect\n",
    "from collections import namedtuple,defaultdict\n",
    "import numpy as np\n",
    "\n",
    "\n",
    "import lxml.html\n",
    "import lxml.etree\n",
    "import requests\n",
    "import sqlite3\n",
    "\n",
    "\n",
    "import time\n",
    "import pickle\n",
    "#MS SQL \n",
    "import pyodbc"
   ]
  },
  {
   "cell_type": "code",
   "execution_count": 3,
   "metadata": {
    "collapsed": true
   },
   "outputs": [],
   "source": [
    "conn = sqlite3.connect(\"news_base.db\") \n",
    "cursor = conn.cursor()"
   ]
  },
  {
   "cell_type": "code",
   "execution_count": 25,
   "metadata": {},
   "outputs": [
    {
     "data": {
      "text/plain": [
       "150"
      ]
     },
     "execution_count": 25,
     "metadata": {},
     "output_type": "execute_result"
    }
   ],
   "source": [
    "conn = sqlite3.connect(\"news_base.db\") \n",
    "cursor = conn.cursor()\n",
    "#создание тестовой выборки, чтобы проверить качетсво кластеризации\n",
    "\n",
    "\n",
    "d=[] #список документов для дальнейшей работы\n",
    "\n",
    "doc_id = 0\n",
    "\n",
    "stopWords = stopwords.words('russian')\n",
    "stopWords.extend(['что', 'это', 'так', 'вот', 'быть','й', 'как', 'в', '—', 'к', 'на','свой', 'который', 'е', 'также','год'])\n",
    "\n",
    "test_doc_to_clast = defaultdict(list)\n",
    "\n",
    "categories = ['Культура','Спорт','Наука и техника'] \n",
    "\n",
    "\n",
    "#0 - культура , 1 -наука, 3 - спорт\n",
    "\n",
    "for n_clast,  c in enumerate(categories):\n",
    "    sql = \"SELECT article FROM News where category = ? limit 400\"\n",
    "    cursor.execute(sql,[c] )\n",
    "    \n",
    "    for t in cursor.fetchall()[:50]:\n",
    "        \n",
    "        test_doc_to_clast[n_clast].append(doc_id)\n",
    "        article = t[0]\n",
    "        d.append(article)\n",
    "        #print( n_clast, c, doc_id,article,\"\\n\")\n",
    "        doc_id+=1\n",
    "\n",
    "\n",
    "\n",
    "d = sorted(d)\n",
    "x = np.array(d) \n",
    "len(x)"
   ]
  },
  {
   "cell_type": "code",
   "execution_count": 4,
   "metadata": {
    "collapsed": true
   },
   "outputs": [],
   "source": [
    "a = 'Спорт'\n",
    "b = 'Культура'\n",
    "c='Наука и техника'\n",
    "d=[]\n",
    "test_doc_to_clast = defaultdict(list)\n",
    "sql = \"SELECT article, category FROM News where category = ? or category = ? or category = ? limit 300\"\n",
    "cursor.execute(sql, (a,b,c))\n",
    "doc_id = 0\n",
    "for t in cursor.fetchall():\n",
    "        if t[1]==a:\n",
    "            n_clast = 0\n",
    "        elif t[1]==b:\n",
    "            n_clast = 1\n",
    "        else: n_clast = 2\n",
    "            \n",
    "        test_doc_to_clast[n_clast].append(doc_id)\n",
    "        article = t[0]\n",
    "        d.append(article)\n",
    "        #print( n_clast, c, doc_id,article,\"\\n\")\n",
    "        doc_id+=1\n"
   ]
  },
  {
   "cell_type": "code",
   "execution_count": 5,
   "metadata": {},
   "outputs": [
    {
     "data": {
      "text/plain": [
       "89"
      ]
     },
     "execution_count": 5,
     "metadata": {},
     "output_type": "execute_result"
    }
   ],
   "source": [
    "#x = sorted(d)\n",
    "x = np.array(d) \n",
    "len(test_doc_to_clast[2])"
   ]
  },
  {
   "cell_type": "code",
   "execution_count": 5,
   "metadata": {},
   "outputs": [
    {
     "name": "stdout",
     "output_type": "stream",
     "text": [
      "100\n",
      "100\n",
      "100\n"
     ]
    }
   ],
   "source": [
    "print(len(test_doc_to_clast[0]))\n",
    "print(len(test_doc_to_clast[1]))\n",
    "print(len(test_doc_to_clast[2]))"
   ]
  },
  {
   "cell_type": "code",
   "execution_count": 27,
   "metadata": {
    "collapsed": true
   },
   "outputs": [],
   "source": [
    "\"\"\" инвертированный индекс \n",
    "    используется для построения матриц вероятностей \n",
    "    \"\"\"\n",
    "stopWords = stopwords.words('russian')\n",
    "stopWords.extend(['что', 'это', 'так', 'вот','ещё', 'свой' , 'быть','й', 'как', 'в', '—', 'к', 'на','свой', 'который', 'е','кстати', 'также'])\n",
    "\n",
    "def parse_text(text):\n",
    "    #print(type(text))\n",
    "    words = (word for word in re.split('\\W+', text) if (len(word) >0 )&( analyzer.normal_forms(word)[0].lower() not in stopWords ))\n",
    "    lexems = (analyzer.normal_forms(word)[0] for word in words)\n",
    "    \n",
    "    return list(lexems)\n",
    "\n",
    "\n",
    "class InvertedIndex:\n",
    "    \n",
    "    def __init__(self):\n",
    "        self.dict = defaultdict(list)\n",
    "        self.texts = dict()\n",
    "        \n",
    "    def add_document(self, text, doc_id):\n",
    "        self.texts[doc_id] = text\n",
    "        words = parse_text(text)\n",
    "        \n",
    "        \n",
    "        word_to_entry = defaultdict(lambda: [])\n",
    "        \n",
    "        for pos, word in enumerate(words):\n",
    "            \n",
    "            doc_entry = word_to_entry[word]\n",
    "            doc_entry.append(pos)\n",
    "            \n",
    "        for word, positions in word_to_entry.items():\n",
    "            postings = self.dict[word]\n",
    "            entry = DocEntry(doc_id, positions)\n",
    "            \n",
    "            i = bisect.bisect_left(postings, entry)\n",
    "        \n",
    "            postings.insert(i, entry)\n",
    "            \n",
    "    def get_postings(self, word):\n",
    "        return self.dict[word]\n",
    "    \n",
    "\n",
    "        \n",
    "\"\"\"Подсчет векторного произведения\"\"\"        \n",
    "def mult_single(x,y):\n",
    "    #conditions x>0 y>o\n",
    "    return x*y\n",
    "\n",
    "def mult_vect(x,y):\n",
    "    mult = np.vectorize(mult_single)\n",
    "    return np.sum(mult(x,y))\n",
    "\n",
    "\"\"\"Dkl\"\"\"\n",
    "\n",
    "def dkl_single(x,y):\n",
    "    if x>0 and y>0:\n",
    "     \n",
    "        return x*math.log2(x/y)\n",
    "    elif x==0: return 0.0\n",
    "    else: return math.inf\n",
    "\n",
    "def dkl(x,y):\n",
    "    sum_dkl = np.vectorize(dkl_single)\n",
    "    \n",
    "    return np.sum(sum_dkl(x,y))\n",
    "\n",
    "def div_matr(D, n, m,py_x,py_t) :\n",
    "    for i in range(n):\n",
    "        for j in range(m):\n",
    "            Div[i,j] = dkl(py_x[:,i],py_t.transpose()[:,j]) \n",
    "            \n",
    "    return Div\n",
    "    \n",
    "\"\"\"Djs\"\"\"\n",
    "def djs(x,y):\n",
    "    return 0.5 * dkl(x, (x+y)/2) + 0.5* dkl(y, (x+y)/2)\n",
    "\n",
    "def djs_vect(Djs,m,pt_x,pt_x_new ):\n",
    "    for i in tqdm(range(m)):\n",
    "        Djs[i]= djs(pt_x[:,i], pt_x_new[:,i])\n",
    "        \n",
    "        #Djs[i]= djs(pt_x[i,:], pt_x_new[i,:])\n",
    "    return Djs\n",
    "\n",
    "\"\"\"P(t)\"\"\"\n",
    "def f_pt(pt,m,px,pt_x):\n",
    "    for i in range(m):\n",
    "        pt[i] = mult_vect(px, pt_x[i,:])\n",
    "    return pt\n",
    "\n",
    "\"\"\"P(y|t)\"\"\"\n",
    "def f_py_t(py_t, m,n,pt_x,pxy,pt):\n",
    "    for i in range(m):\n",
    "        for j in range(n):\n",
    "            py_t[i,j] = mult_vect(pt_x[i,:],pxy[:,j])/pt[i]\n",
    "            \n",
    "    return py_t\n",
    "\"\"\"Выводит список из  n элементов, соответсвующих  \"\"\"\n",
    "def main_words(n, r):\n",
    "    l = []\n",
    "\n",
    "    for i in range(n):\n",
    "        l.append(r.argmax())\n",
    "        r[r.argmax()] = 0\n",
    "    return l\n",
    "\n",
    "\n",
    "        \n",
    "#show all numbers of docs from  cl,   \n",
    "def show_text_docs(cl_num):\n",
    "    show_main_words(cl_num)\n",
    "    print(\"\\n\")\n",
    "    docs = doc_clast[cl_num] # список документов кластера №cl_num\n",
    "    for num in docs:\n",
    "        print(\"№ документа: \" + str(num) + \" ТЕКСТ \"+ str(x[num]))\n",
    "    \n",
    "    \n",
    "    \n",
    "def foo_z(pt_x):\n",
    "    z = pt_x.sum(axis=0)\n",
    "    return z\n",
    "\n",
    "\n",
    "#w_d список документов со словом w\n",
    "#d_cl список документов из кластера t \n",
    "\n",
    "#w_d,  d_cl\n",
    "def f_N11( w_d,d_cl,n):\n",
    "    k= 0\n",
    "    for d in range(n):\n",
    "        if (d in d_cl )& (d in w_d):\n",
    "            k+=1\n",
    "    return k\n",
    "#not w_d, w_cl\n",
    "def f_N01(w_d,w_cl,n):\n",
    "    k= 0\n",
    "    for d in range(n):\n",
    "        if (d in w_cl )& (d not in w_d):\n",
    "            k+=1\n",
    "    return k\n",
    "#not w_d, not w_cl\n",
    "def f_N00( w_d,w_cl,n):\n",
    "    k= 0\n",
    "    for d in range(n):\n",
    "        if (d not in w_cl )& (d not in w_d):\n",
    "            k+=1\n",
    "    return k\n",
    "\n",
    "#w_d,   not w_cl\n",
    "def f_N10( w_d,w_cl,n):\n",
    "    k= 0\n",
    "    for d in range(n):\n",
    "        if (d not in w_cl )& (d in w_d):\n",
    "            k+=1\n",
    "    return k\n",
    "\n",
    "def mutual_information(t):\n",
    "    MI = []\n",
    "    for word in tqdm(word_dict.items()):\n",
    "        w  = word[1]\n",
    "        \n",
    "        w_d=[]\n",
    "        for doc_id,pos in index.dict.get(w):\n",
    "            w_d.append(doc_id)\n",
    "        N = len(x)\n",
    "        N11 = f_N11(w_d,doc_clast.get(t),len(x))\n",
    "        N1 = len(w_d)\n",
    "        N10 = f_N10(w_d,doc_clast.get(t),len(x))\n",
    "        N0 = N - N1\n",
    "        #print(N, N1, N0)\n",
    "        N01 = f_N01(w_d,doc_clast.get(t),len(x))\n",
    "        N00 = f_N00(w_d,doc_clast.get(t),len(x))\n",
    "        if N10==0: N10=0.0001\n",
    "        if N01==0: N01=0.0001\n",
    "        if N11==0: N11=0.0001\n",
    "        if N00==0: N00=0.0001\n",
    "   \n",
    "        #print(N11, N01, N10, N00)\n",
    "        I = N11/N * math.log2(N*N11/(N1*N1)) + N01/N*math.log2(N * N01/(N0*N1)) +N10/N*math.log2(N * N10/(N0*N1))+N00/N*math.log2(N * N00/(N0*N0))\n",
    "        MI.append(I)\n",
    "    return MI\n",
    "    \n",
    "def main_words(n, r):\n",
    "    l = []\n",
    "    \n",
    "    for i in range(n): \n",
    "        maxi = r.argmax()\n",
    "        l.append((maxi,r[maxi]))\n",
    "        r[maxi] = 0\n",
    "    return l"
   ]
  },
  {
   "cell_type": "code",
   "execution_count": 117,
   "metadata": {},
   "outputs": [],
   "source": [
    "\n",
    "def replaceZeroes(data):\n",
    "    #print(data)\n",
    "    data[data == 0] = 0.0001    \n",
    "    return data\n",
    "\n",
    "def replaceZeroeScalar(data):\n",
    "    if data == 0:\n",
    "        data = 0.0001   \n",
    "    \n",
    "    #print(data)\n",
    "    return data\n",
    "\n",
    "def IXT(px,pt_x,pt,m,n):\n",
    "    IXT = 0\n",
    "    for t in range(m):\n",
    "        for x in range(n): #n len(x)\n",
    "            #print(replaceZeroes([1,3,0,7]))\n",
    "            a = px[x]*pt_x[t,:]*np.log2(replaceZeroes(pt_x[t,:]/replaceZeroeScalar(pt[t])))\n",
    "            #print(a.sum())\n",
    "            IXT+=a.sum()\n",
    "    \n",
    "    print(\"IXT = \" + str(IXT))\n",
    "    return IXT\n",
    "\n",
    "def f_pty(pt_x,pxy,m,k):\n",
    "    pty = np.zeros((m,k))#k - len words list\n",
    "    for t in range(m):\n",
    "        for y in range(k):\n",
    "            \n",
    "            pty[t,y] = mult_vect(pt_x[t,:], pxy[:,y])\n",
    "            #print(pty[t,y])\n",
    "    return pty\n",
    "    \n",
    "#через pty\n",
    "def ITY_pty(pt_x,pxy,pt,m,k):\n",
    "    ITY = 0\n",
    "    pty = f_pty(pt_x,pxy,m,k)\n",
    "    py = pxy.sum(axis=0)\n",
    "    for t in range(m):\n",
    "        for y in range(k):\n",
    "            a = pty[t,:]*np.log2(replaceZeroes(pty[t,:]/replaceZeroeScalar(pt[t]*py[y])))\n",
    "            ITY+=a.sum()   \n",
    "            #print(ITY)\n",
    "    \n",
    "    print(\"ITY = \" + str(ITY))\n",
    "    return ITY\n",
    "\n",
    "def ITY_py_t(py_t,pxy,pt, m, k):\n",
    "    ITY = 0    \n",
    "    py = pxy.sum(axis=0)\n",
    "    for t in range(m):\n",
    "        for y in range(k):\n",
    "            #print(pt[t])\n",
    "            a = pt[t] * py_t[t,:]*np.log2(replaceZeroes(py_t[t,:]/replaceZeroeScalar(py[y])))\n",
    "            ITY+=a.sum()   \n",
    "            #print(ITY)\n",
    "    \n",
    "    print(\"ITY = \" + str(ITY))\n",
    "    return ITY\n",
    "    "
   ]
  },
  {
   "cell_type": "code",
   "execution_count": 70,
   "metadata": {},
   "outputs": [
    {
     "data": {
      "text/plain": [
       "150"
      ]
     },
     "execution_count": 70,
     "metadata": {},
     "output_type": "execute_result"
    }
   ],
   "source": [
    "#beta\n",
    "beta = 2.3\n",
    "\n",
    "#число кластеров\n",
    "m = 3\n",
    "#covergence parameter \n",
    "#для моих новостей 2.11е-03\n",
    "e = 2.11e-04\n",
    "e\n",
    "len(x)"
   ]
  },
  {
   "cell_type": "code",
   "execution_count": 55,
   "metadata": {},
   "outputs": [
    {
     "name": "stderr",
     "output_type": "stream",
     "text": [
      "150it [00:24,  6.14it/s]\n"
     ]
    }
   ],
   "source": [
    "DocEntry = namedtuple('DocEntry',['doc_id','positions'])\n",
    "\"\"\"INPUT\"\"\"\n",
    "\n",
    "analyzer = pymorphy2.MorphAnalyzer()   \n",
    "\"\"\"#Создание инвертированного индекса\"\"\"   \n",
    "index = InvertedIndex()\n",
    "\n",
    "for i, line in tqdm(enumerate(x)):\n",
    "        doc_id = i\n",
    "        text = line\n",
    "        index.add_document(text,doc_id)"
   ]
  },
  {
   "cell_type": "code",
   "execution_count": 119,
   "metadata": {},
   "outputs": [
    {
     "name": "stderr",
     "output_type": "stream",
     "text": [
      "100%|██████████████████████████████████████| 150/150 [00:00<00:00, 3844.01it/s]\n"
     ]
    },
    {
     "name": "stdout",
     "output_type": "stream",
     "text": [
      "IXT = 31.3623220578\n",
      "ITY = 1.63051122167\n",
      "27.612146248\n",
      "6.217112976824865 seconds\n",
      "0 iteration\n",
      "pt_x_new\n",
      "[ 0.80713255  0.1123458   0.08052165]\n",
      "[ 0.27846229  0.12523952  0.59629819]\n"
     ]
    },
    {
     "name": "stderr",
     "output_type": "stream",
     "text": [
      "100%|██████████████████████████████████████| 150/150 [00:00<00:00, 1874.86it/s]\n"
     ]
    },
    {
     "name": "stdout",
     "output_type": "stream",
     "text": [
      "DJS\n",
      "0.0209812028218\n",
      "pt\n",
      "[ 0.31383918  0.32320353  0.36295729]\n",
      "IXT = 37.2240604594\n",
      "ITY = 1.64384878823\n",
      "L = 33.4432082464\n",
      "4.58483616108424 seconds\n",
      "1 iteration\n",
      "pt_x_new\n",
      "[ 0.83103111  0.09594554  0.07302335]\n",
      "[ 0.26766623  0.15532695  0.57700682]\n"
     ]
    },
    {
     "name": "stderr",
     "output_type": "stream",
     "text": [
      "100%|██████████████████████████████████████| 150/150 [00:00<00:00, 5356.30it/s]\n"
     ]
    },
    {
     "name": "stdout",
     "output_type": "stream",
     "text": [
      "DJS\n",
      "0.0376743219872\n",
      "pt\n",
      "[ 0.30970965  0.32670875  0.36358159]\n",
      "IXT = 48.5279107667\n",
      "ITY = 1.68675108165\n",
      "L = 44.6483832789\n",
      "4.252478080961737 seconds\n",
      "2 iteration\n",
      "pt_x_new\n",
      "[ 0.85861059  0.07702352  0.06436589]\n",
      "[ 0.25463299  0.17380995  0.57155706]\n"
     ]
    },
    {
     "name": "stderr",
     "output_type": "stream",
     "text": [
      "100%|██████████████████████████████████████| 150/150 [00:00<00:00, 3749.62it/s]\n"
     ]
    },
    {
     "name": "stdout",
     "output_type": "stream",
     "text": [
      "DJS\n",
      "0.0296272286618\n",
      "pt\n",
      "[ 0.30587722  0.33109724  0.36302554]\n",
      "IXT = 64.6889405849\n",
      "ITY = 1.7520954983\n",
      "L = 60.6591209388\n",
      "4.271909085320658 seconds\n",
      "3 iteration\n",
      "pt_x_new\n",
      "[ 0.88846588  0.05698961  0.05454451]\n",
      "[ 0.23751996  0.18205798  0.58042206]\n"
     ]
    },
    {
     "name": "stderr",
     "output_type": "stream",
     "text": [
      "100%|██████████████████████████████████████| 150/150 [00:00<00:00, 3749.47it/s]\n"
     ]
    },
    {
     "name": "stdout",
     "output_type": "stream",
     "text": [
      "DJS\n",
      "0.0264860537246\n",
      "pt\n",
      "[ 0.30243863  0.3359852   0.36157617]\n",
      "IXT = 84.4146502264\n",
      "ITY = 1.83619456881\n",
      "L = 80.1914027181\n",
      "4.093803016556194 seconds\n",
      "4 iteration\n",
      "pt_x_new\n",
      "[ 0.91766106  0.03853275  0.04380619]\n",
      "[ 0.21424234  0.1813607   0.60439696]\n"
     ]
    },
    {
     "name": "stderr",
     "output_type": "stream",
     "text": [
      "100%|██████████████████████████████████████| 150/150 [00:00<00:00, 4166.28it/s]\n"
     ]
    },
    {
     "name": "stdout",
     "output_type": "stream",
     "text": [
      "DJS\n",
      "0.0363153723038\n",
      "pt\n",
      "[ 0.2993998   0.34083995  0.35976025]\n",
      "IXT = 106.053226177\n",
      "ITY = 1.93591734251\n",
      "L = 101.60061629\n",
      "4.104009969072649 seconds\n",
      "5 iteration\n",
      "pt_x_new\n",
      "[ 0.94335212  0.02385062  0.03279727]\n",
      "[ 0.18320816  0.17246808  0.64432375]\n"
     ]
    },
    {
     "name": "stderr",
     "output_type": "stream",
     "text": [
      "100%|██████████████████████████████████████| 150/150 [00:00<00:00, 6249.71it/s]\n"
     ]
    },
    {
     "name": "stdout",
     "output_type": "stream",
     "text": [
      "DJS\n",
      "0.0351169358882\n",
      "pt\n",
      "[ 0.29628245  0.34419254  0.35952501]\n",
      "IXT = 127.280251199\n",
      "ITY = 2.04133835679\n",
      "L = 122.585172978\n",
      "4.691779738481273 seconds\n",
      "6 iteration\n"
     ]
    },
    {
     "ename": "KeyboardInterrupt",
     "evalue": "",
     "output_type": "error",
     "traceback": [
      "\u001b[1;31m---------------------------------------------------------------------------\u001b[0m",
      "\u001b[1;31mKeyboardInterrupt\u001b[0m                         Traceback (most recent call last)",
      "\u001b[1;32m<ipython-input-119-c0fd8988c756>\u001b[0m in \u001b[0;36m<module>\u001b[1;34m()\u001b[0m\n\u001b[0;32m    135\u001b[0m \u001b[1;33m\u001b[0m\u001b[0m\n\u001b[0;32m    136\u001b[0m     \u001b[1;31m#P(y|t)\u001b[0m\u001b[1;33m\u001b[0m\u001b[1;33m\u001b[0m\u001b[0m\n\u001b[1;32m--> 137\u001b[1;33m     \u001b[0mpy_t\u001b[0m \u001b[1;33m=\u001b[0m \u001b[0mf_py_t\u001b[0m\u001b[1;33m(\u001b[0m\u001b[0mpy_t\u001b[0m\u001b[1;33m,\u001b[0m \u001b[0mm\u001b[0m\u001b[1;33m,\u001b[0m\u001b[0mlen\u001b[0m\u001b[1;33m(\u001b[0m\u001b[0mindex\u001b[0m\u001b[1;33m.\u001b[0m\u001b[0mdict\u001b[0m\u001b[1;33m.\u001b[0m\u001b[0mkeys\u001b[0m\u001b[1;33m(\u001b[0m\u001b[1;33m)\u001b[0m\u001b[1;33m)\u001b[0m\u001b[1;33m,\u001b[0m\u001b[0mpt_x\u001b[0m\u001b[1;33m,\u001b[0m\u001b[0mpxy\u001b[0m\u001b[1;33m,\u001b[0m\u001b[0mpt\u001b[0m\u001b[1;33m)\u001b[0m\u001b[1;33m\u001b[0m\u001b[0m\n\u001b[0m\u001b[0;32m    138\u001b[0m     \"\"\"print(py_t)\n\u001b[0;32m    139\u001b[0m     print(py_t)\"\"\"\n",
      "\u001b[1;32m<ipython-input-27-4e24702108ed>\u001b[0m in \u001b[0;36mf_py_t\u001b[1;34m(py_t, m, n, pt_x, pxy, pt)\u001b[0m\n\u001b[0;32m     95\u001b[0m     \u001b[1;32mfor\u001b[0m \u001b[0mi\u001b[0m \u001b[1;32min\u001b[0m \u001b[0mrange\u001b[0m\u001b[1;33m(\u001b[0m\u001b[0mm\u001b[0m\u001b[1;33m)\u001b[0m\u001b[1;33m:\u001b[0m\u001b[1;33m\u001b[0m\u001b[0m\n\u001b[0;32m     96\u001b[0m         \u001b[1;32mfor\u001b[0m \u001b[0mj\u001b[0m \u001b[1;32min\u001b[0m \u001b[0mrange\u001b[0m\u001b[1;33m(\u001b[0m\u001b[0mn\u001b[0m\u001b[1;33m)\u001b[0m\u001b[1;33m:\u001b[0m\u001b[1;33m\u001b[0m\u001b[0m\n\u001b[1;32m---> 97\u001b[1;33m             \u001b[0mpy_t\u001b[0m\u001b[1;33m[\u001b[0m\u001b[0mi\u001b[0m\u001b[1;33m,\u001b[0m\u001b[0mj\u001b[0m\u001b[1;33m]\u001b[0m \u001b[1;33m=\u001b[0m \u001b[0mmult_vect\u001b[0m\u001b[1;33m(\u001b[0m\u001b[0mpt_x\u001b[0m\u001b[1;33m[\u001b[0m\u001b[0mi\u001b[0m\u001b[1;33m,\u001b[0m\u001b[1;33m:\u001b[0m\u001b[1;33m]\u001b[0m\u001b[1;33m,\u001b[0m\u001b[0mpxy\u001b[0m\u001b[1;33m[\u001b[0m\u001b[1;33m:\u001b[0m\u001b[1;33m,\u001b[0m\u001b[0mj\u001b[0m\u001b[1;33m]\u001b[0m\u001b[1;33m)\u001b[0m\u001b[1;33m/\u001b[0m\u001b[0mpt\u001b[0m\u001b[1;33m[\u001b[0m\u001b[0mi\u001b[0m\u001b[1;33m]\u001b[0m\u001b[1;33m\u001b[0m\u001b[0m\n\u001b[0m\u001b[0;32m     98\u001b[0m \u001b[1;33m\u001b[0m\u001b[0m\n\u001b[0;32m     99\u001b[0m     \u001b[1;32mreturn\u001b[0m \u001b[0mpy_t\u001b[0m\u001b[1;33m\u001b[0m\u001b[0m\n",
      "\u001b[1;32m<ipython-input-27-4e24702108ed>\u001b[0m in \u001b[0;36mmult_vect\u001b[1;34m(x, y)\u001b[0m\n\u001b[0;32m     51\u001b[0m \u001b[1;32mdef\u001b[0m \u001b[0mmult_vect\u001b[0m\u001b[1;33m(\u001b[0m\u001b[0mx\u001b[0m\u001b[1;33m,\u001b[0m\u001b[0my\u001b[0m\u001b[1;33m)\u001b[0m\u001b[1;33m:\u001b[0m\u001b[1;33m\u001b[0m\u001b[0m\n\u001b[0;32m     52\u001b[0m     \u001b[0mmult\u001b[0m \u001b[1;33m=\u001b[0m \u001b[0mnp\u001b[0m\u001b[1;33m.\u001b[0m\u001b[0mvectorize\u001b[0m\u001b[1;33m(\u001b[0m\u001b[0mmult_single\u001b[0m\u001b[1;33m)\u001b[0m\u001b[1;33m\u001b[0m\u001b[0m\n\u001b[1;32m---> 53\u001b[1;33m     \u001b[1;32mreturn\u001b[0m \u001b[0mnp\u001b[0m\u001b[1;33m.\u001b[0m\u001b[0msum\u001b[0m\u001b[1;33m(\u001b[0m\u001b[0mmult\u001b[0m\u001b[1;33m(\u001b[0m\u001b[0mx\u001b[0m\u001b[1;33m,\u001b[0m\u001b[0my\u001b[0m\u001b[1;33m)\u001b[0m\u001b[1;33m)\u001b[0m\u001b[1;33m\u001b[0m\u001b[0m\n\u001b[0m\u001b[0;32m     54\u001b[0m \u001b[1;33m\u001b[0m\u001b[0m\n\u001b[0;32m     55\u001b[0m \u001b[1;34m\"\"\"Dkl\"\"\"\u001b[0m\u001b[1;33m\u001b[0m\u001b[0m\n",
      "\u001b[1;32m~\\Anaconda3\\lib\\site-packages\\numpy\\lib\\function_base.py\u001b[0m in \u001b[0;36m__call__\u001b[1;34m(self, *args, **kwargs)\u001b[0m\n\u001b[0;32m   2737\u001b[0m             \u001b[0mvargs\u001b[0m\u001b[1;33m.\u001b[0m\u001b[0mextend\u001b[0m\u001b[1;33m(\u001b[0m\u001b[1;33m[\u001b[0m\u001b[0mkwargs\u001b[0m\u001b[1;33m[\u001b[0m\u001b[0m_n\u001b[0m\u001b[1;33m]\u001b[0m \u001b[1;32mfor\u001b[0m \u001b[0m_n\u001b[0m \u001b[1;32min\u001b[0m \u001b[0mnames\u001b[0m\u001b[1;33m]\u001b[0m\u001b[1;33m)\u001b[0m\u001b[1;33m\u001b[0m\u001b[0m\n\u001b[0;32m   2738\u001b[0m \u001b[1;33m\u001b[0m\u001b[0m\n\u001b[1;32m-> 2739\u001b[1;33m         \u001b[1;32mreturn\u001b[0m \u001b[0mself\u001b[0m\u001b[1;33m.\u001b[0m\u001b[0m_vectorize_call\u001b[0m\u001b[1;33m(\u001b[0m\u001b[0mfunc\u001b[0m\u001b[1;33m=\u001b[0m\u001b[0mfunc\u001b[0m\u001b[1;33m,\u001b[0m \u001b[0margs\u001b[0m\u001b[1;33m=\u001b[0m\u001b[0mvargs\u001b[0m\u001b[1;33m)\u001b[0m\u001b[1;33m\u001b[0m\u001b[0m\n\u001b[0m\u001b[0;32m   2740\u001b[0m \u001b[1;33m\u001b[0m\u001b[0m\n\u001b[0;32m   2741\u001b[0m     \u001b[1;32mdef\u001b[0m \u001b[0m_get_ufunc_and_otypes\u001b[0m\u001b[1;33m(\u001b[0m\u001b[0mself\u001b[0m\u001b[1;33m,\u001b[0m \u001b[0mfunc\u001b[0m\u001b[1;33m,\u001b[0m \u001b[0margs\u001b[0m\u001b[1;33m)\u001b[0m\u001b[1;33m:\u001b[0m\u001b[1;33m\u001b[0m\u001b[0m\n",
      "\u001b[1;32m~\\Anaconda3\\lib\\site-packages\\numpy\\lib\\function_base.py\u001b[0m in \u001b[0;36m_vectorize_call\u001b[1;34m(self, func, args)\u001b[0m\n\u001b[0;32m   2811\u001b[0m             \u001b[1;31m# Convert args to object arrays first\u001b[0m\u001b[1;33m\u001b[0m\u001b[1;33m\u001b[0m\u001b[0m\n\u001b[0;32m   2812\u001b[0m             inputs = [array(a, copy=False, subok=True, dtype=object)\n\u001b[1;32m-> 2813\u001b[1;33m                       for a in args]\n\u001b[0m\u001b[0;32m   2814\u001b[0m \u001b[1;33m\u001b[0m\u001b[0m\n\u001b[0;32m   2815\u001b[0m             \u001b[0moutputs\u001b[0m \u001b[1;33m=\u001b[0m \u001b[0mufunc\u001b[0m\u001b[1;33m(\u001b[0m\u001b[1;33m*\u001b[0m\u001b[0minputs\u001b[0m\u001b[1;33m)\u001b[0m\u001b[1;33m\u001b[0m\u001b[0m\n",
      "\u001b[1;32m~\\Anaconda3\\lib\\site-packages\\numpy\\lib\\function_base.py\u001b[0m in \u001b[0;36m<listcomp>\u001b[1;34m(.0)\u001b[0m\n\u001b[0;32m   2811\u001b[0m             \u001b[1;31m# Convert args to object arrays first\u001b[0m\u001b[1;33m\u001b[0m\u001b[1;33m\u001b[0m\u001b[0m\n\u001b[0;32m   2812\u001b[0m             inputs = [array(a, copy=False, subok=True, dtype=object)\n\u001b[1;32m-> 2813\u001b[1;33m                       for a in args]\n\u001b[0m\u001b[0;32m   2814\u001b[0m \u001b[1;33m\u001b[0m\u001b[0m\n\u001b[0;32m   2815\u001b[0m             \u001b[0moutputs\u001b[0m \u001b[1;33m=\u001b[0m \u001b[0mufunc\u001b[0m\u001b[1;33m(\u001b[0m\u001b[1;33m*\u001b[0m\u001b[0minputs\u001b[0m\u001b[1;33m)\u001b[0m\u001b[1;33m\u001b[0m\u001b[0m\n",
      "\u001b[1;31mKeyboardInterrupt\u001b[0m: "
     ]
    }
   ],
   "source": [
    "start_time = time.clock()\n",
    "\n",
    "Func_L = []\n",
    "        \n",
    "#словарь слов: ключ - номер индекса , значение -словао\n",
    "word_dict = {}\n",
    "for i, word in enumerate(index.dict.keys()):\n",
    "    word_dict[i] = word\n",
    "\n",
    "\"\"\"#общее число слов в коллекции\"\"\"\n",
    "summa = 0\n",
    "for i in x:\n",
    "    #print(len(word_tokenize(i)))\n",
    "    summa+=len(word_tokenize(i))\n",
    "\n",
    "\"\"\"P(x,y)\"\"\"    \n",
    "\n",
    "pxy = np.zeros((len(x), len(index.dict.keys())))\n",
    "for i, word in enumerate(index.dict.keys()):\n",
    "    a = index.dict.get(word)\n",
    "    for doc_id , postings in a:\n",
    "        pxy[doc_id,i] = len(postings)/summa\n",
    "\"\"\"print(\"pxy\")\n",
    "print(pxy)\"\"\"     \n",
    "        \n",
    "\"\"\"INITIALIZaTION\"\"\" \n",
    "\n",
    "\"\"\"P(t|x)\"\"\"\n",
    "\n",
    "pt_x = np.random.rand(m, len(x))\n",
    "\n",
    "z = pt_x.sum(axis=0)\n",
    "pt_x = pt_x/z\n",
    "#print(pt_x)\n",
    "\n",
    "\"\"\"\n",
    "pt_x = np.zeros((m, len(x)))\n",
    "for row in np.arange(len(x)):\n",
    "    i = np.random.randint(m)\n",
    "    pt_x[i,row]=1 \n",
    " \"\"\"       \n",
    "\"\"\"задание вероятности P(x)\"\"\"    \n",
    "px  = np.zeros((x.size))\n",
    "\n",
    "for n, i in enumerate(x):\n",
    "    b = len(word_tokenize(str(i)))\n",
    "    #print(i, b, n)\n",
    "    px[n] = b/summa\n",
    "#print(\"px\")\n",
    "#print(px)\n",
    "    \n",
    "\n",
    "\n",
    "\"\"\"P(t)\"\"\"\n",
    "pt = np.zeros(m)\n",
    "for i in range(m):\n",
    "    pt[i] = mult_vect(px,pt_x[i,:])\n",
    "    \n",
    "\"\"\"P(y|t)\"\"\"\n",
    "py_t = np.zeros((m,len(index.dict.keys())) )\n",
    "\n",
    "for i in range(m):\n",
    "    for j in range(len(index.dict.keys())):\n",
    "        py_t[i,j] = mult_vect(pt_x[i,:],pxy[:,j])/pt[i]\n",
    "        \n",
    "\n",
    "\"\"\"P(y|x)\"\"\"\n",
    "py_x = np.zeros((len(index.dict.keys()),len(x)))\n",
    "\n",
    "\n",
    "word_index=[]\n",
    "for i, word in enumerate(index.dict.keys()):\n",
    "    a = index.dict.get(word)\n",
    "    word_index.append((i,word))\n",
    "    for doc_id , postings in a:\n",
    "        py_x[i,doc_id] = len(postings)/len(index.texts[doc_id].split())\n",
    "        \n",
    "\n",
    "      \n",
    "        \"\"\"LOOP\"\"\"\n",
    "#print(\"y_x\")\n",
    "#print(py_x) \n",
    "Div = np.zeros((len(x), m)) #init div   \n",
    "Div = div_matr(Div, len(x),m,py_x,py_t)\n",
    "#new P(t|x)\n",
    "#z = f_z(pt,py_x,py_t,beta)\n",
    "\n",
    "pt_x_new =pt * np.exp(-beta * Div)\n",
    "pt_x_new = pt_x_new.transpose()\n",
    "#print(\"pt_x_new\")\n",
    "#print(pt_x_new)\n",
    "z = foo_z(pt_x_new)\n",
    "#print(\"z\")\n",
    "#print(z)\n",
    "pt_x_new = pt_x_new/z\n",
    "#print(\"pt_x_new\")\n",
    "#print(pt_x_new)\n",
    "\n",
    "#init Djs\n",
    "Djs = np.zeros(len(x))\n",
    "Djs = djs_vect(Djs,len(x),pt_x,pt_x_new )\n",
    "\n",
    "k = 0\n",
    "\"\"\"print(\"pt_x\")\n",
    "print(pt_x)\n",
    "print(\"pt\")\n",
    "print(pt)\n",
    "print(\"py_t\")\n",
    "print(py_t)\n",
    "\"\"\"\n",
    "#print(\"DJS\")\n",
    "#print(Djs)\n",
    "                                                                  \n",
    "L = IXT(px,pt_x_new,pt,m, len(x)) - beta* ITY_py_t(py_t.transpose(),pxy,pt, m, len(index.dict.keys()))\n",
    "\n",
    "#L = IXT(px,pt_x_new,pt,m, len(x)) -beta * ITY_pty(pt_x,pxy,pt,m,len(index.dict.keys()))\n",
    "print(L)                                                                      \n",
    "Func_L.append(L)\n",
    "                                                                      \n",
    "print (time.clock() - start_time, \"seconds\")\n",
    "#while np.sum(Djs)/len(Djs)>=e: \n",
    "while Djs.max()>=e: \n",
    "    start_time = time.clock()\n",
    "    print(k, \"iteration\")\n",
    "    #переопрделяем \n",
    "    pt_x = pt_x_new \n",
    "    \"\"\"print(\"pt_x\")\n",
    "    print(pt_x)\"\"\"\n",
    "    #P(t)    \n",
    "    #print(\"DJS\")\n",
    "    #print(Djs)\n",
    "    pt = f_pt(pt,m,px,pt_x)\n",
    "    \"\"\"print(\"pt\")\n",
    "    print(pt)\"\"\"\n",
    "    \n",
    "    #P(y|t)\n",
    "    py_t = f_py_t(py_t, m,len(index.dict.keys()),pt_x,pxy,pt) \n",
    "    \"\"\"print(py_t)\n",
    "    print(py_t)\"\"\"\n",
    "                  \n",
    "    #P(t|x) new\n",
    "    pt_x_new = pt * np.exp(-beta * div_matr(Div, len(x),m,py_x,py_t)) \n",
    "    \"\"\"print('pt_new')\n",
    "    print(pt_x_new)\"\"\"\n",
    "    pt_x_new = pt_x_new.transpose()\n",
    "    z = foo_z(pt_x_new)\n",
    "    pt_x_new = pt_x_new/z\n",
    "    print(\"pt_x_new\")\n",
    "    print(pt_x_new[:,1])\n",
    "    print(pt_x_new[:,100])\n",
    "       \n",
    "    Djs = djs_vect(Djs,len(x),pt_x,pt_x_new )\n",
    "    print(\"DJS\")\n",
    "    #print(np.sum(Djs)/len(Djs))\n",
    "    print(Djs.max())\n",
    "    k+=1\n",
    "    print(\"pt\")\n",
    "    print(pt)\n",
    "    L = IXT(px,pt_x_new,pt,m, len(x)) - beta* ITY_py_t(py_t.transpose(),pxy,pt, m, len(index.dict.keys()))\n",
    "    \n",
    "    #L = IXT(px,pt_x_new,pt,m, len(x)) -beta * ITY_pty(pt_x,pxy,pt,m,len(index.dict.keys()))\n",
    "    print(\"L = \"+str(L))                                                                      \n",
    "    Func_L.append(L)                                                                  \n",
    "    print (time.clock() - start_time, \"seconds\")\n",
    "\n",
    "# вектор с номерами кластеров, к которому документ предложит( вероятность больше всего)\n",
    "vec = np.argmax(pt_x_new, axis=0)\n",
    "\n",
    "#словарь: ключ - номер кластера, значение - номер документа\n",
    "doc_clast = defaultdict(list)\n",
    "for i,value in enumerate(vec):\n",
    "        doc_clast[value].append(i)\n",
    "\n",
    "        \n",
    "#СЛОВАРЬ: ключ - номер кластера, значение - список и n самых важных слов\n",
    "\n",
    "clasters_main_words = {}\n",
    "n = 50\n",
    "py_t_copy = py_t.copy()\n",
    "for i, row in enumerate(py_t_copy):  \n",
    "    \n",
    "    clasters_main_words[i] = main_words(n, row) \n",
    "    #print(clasters_main_words[i])\n",
    "    \n"
   ]
  },
  {
   "cell_type": "code",
   "execution_count": 43,
   "metadata": {},
   "outputs": [
    {
     "name": "stdout",
     "output_type": "stream",
     "text": [
      "1 ['актер валерий николаев, отсидевший в сизо по делу о массовом дтп в центре москвы, вновь попался на нарушении правил дорожного движения. об этом во вторник, 5 апреля, сообщает lifenews.', 'по информации телеканала, в период с 1 по 3 апреля артиста 11 раз останавливали сотрудники дпс. так, 3 апреля он дважды превысил скорость более чем на 40 километров в час. за день до этого николаев совершил четыре нарушения, в числе которых выезд на полосу для маршрутного транспорта, игнорирование дорожных знаков и превышение скорости. 1 апреля актер попался на пяти нарушениях, в частности превышении и повторном превышении скорости (случаи были зафиксированы в московской области).', 'как отмечает lifenews, всего с момента выхода из-под ареста николаев проигнорировал пдд более 20 раз. между тем тверской суд москвы продолжает рассматривать нарушения, которые актер совершил ранее.', '8 марта николаев ', 'вышел', ' из московского сизо «бутырка», где он отбывал 10 суток административного ареста. актер был задержан 27 февраля в одном из столичных автосервисов после того, как самовольно ', 'покинул', ' заседание суда, не дожидаясь вынесения приговора.', 'первоначально николаева ', 'задержали', ' 25 февраля в центре москвы после дтп с участием патрульного автомобиля. он пытался скрыться от сотрудников правоохранительных органов.', 'позднее выяснилось, что артист неоднократно нарушал правила дорожного движения. сообщалось также, что его машина находится в розыске как скрывшаяся c места дтп, о чем составлен административный протокол. речь предположительно идет о недавнем случае, когда актер сбил женщину на пешеходном переходе на чистопрудном бульваре, после чего уехал с места происшествия.']\n",
      "\n",
      "2 ['актер том хиддлстон стал лауреатом второй национальной кинопремии великобритании (national film awards), сообщает в пятницу, 1 апреля, the hollywood reporter. он удостоился награды за работу в фантастической драме «высотка», вышедшей в 2015 году. победителя определили с помощью зрительского голосования, в котором приняло участие почти три миллиона человек.', 'актер джон боейга, сыгравший одну из главных ролей в седьмом эпизоде «звездных войн», получил премию за лучший прорыв года. такой же приз вручили актеру тэрону эджертону за шпионский боевик «kingsman: секретная служба». лучшим актером второго плана назвали его партнера по этому фильму сэмюэла л. джексона.', 'почетной премией за достижения в кинематографе наградили хелен миррен («королева», «последнее воскресение», «госфорд-парк», «елизавета i»).', 'том хиддлстон наиболее известен по роли локи в голливудских экранизациях комиксов — франшизах «тор» и «мстители». среди других его известных работ — сериал «ночной администратор», хоррор «багровый пик» и комедия «полночь в париже».']\n",
      "\n",
      "3 ['актер том хиддлстон, сыгравший локи в основанных на комиксах компании marvel comics фильмах «тор», «тор 2: царство тьмы» и «мстители», в эфире телеканала fox 32 назвал причиной торнадо в оклахоме проделки своего брата тора.', '«похоже, крис хемсворт (актер, сыгравший тора — ', 'прим. «ленты.ру»', ') взял свой молот и ударил небо, поэтому в ближайшее время будет весьма дождливо», — сказал хиддлстон в эфире fox 32.', '1 апреля хиддлстон ', 'стал лауреатом', ' второй национальной кинопремии великобритании. он удостоился награды за работу в фантастической драме «высотка», вышедшей на экраны в 2015 году. победителя определили с помощью зрительского голосования, в котором приняло участие почти три миллиона человек.']\n",
      "\n",
      "4 ['актеры из сериала «игра престолов» кит харингтон и роуз лесли впервые появились на публике как пара, сообщает metro. они посетили церемонию вручения театральной премии имени лоуренса оливье в лондоне.', '29-летние харингтон и роуз официально не рассказывали о своих отношениях, хотя их нередко видели вместе за пределами съемочной площадки «игры престолов».', 'в сериале актеры играли возлюбленных джона сноу и игритт. лесли покинула проект после четвертого сезона, когда ее героиня по сюжету погибла. харингтон появится и в предстоящем шестом сезоне, хотя его персонаж тоже умер. по словам актера, джон сноу в новых сериях ', 'останется', ' трупом.', 'следующий сезон «игры престолов» стартует на hbo 24 апреля.', '«игра престолов» — американский фэнтези-сериал, который начал выходить в эфир весной 2011 года. он основан на книжном цикле американского писателя джорджа мартина «песнь льда и пламени». на ближайшие годы запланировано еще по крайней мере два сезона — седьмой и восьмой.']\n",
      "\n",
      "10 ['американская певица бритни спирс опубликовала в своем ', 'twitter', ' личную фотографию с актером леонардо ди каприо. она не уточнила, где и когда был сделан снимок. к нему добавлен хештэг #tbt, что значит throwback thursday («ностальгический четверг»).', 'на фото ди каприо запечатлен в кепке бейсбольной команды «бостон ред сокс», а спирс — с высунутым языком. в комментариях предположили, что пару засняли в начале или середине 2000-х годов. многие поклонники назвали певицу и актера королем и королевой.', 'на момент написания заметки пост спирс собрал больше 15 тысяч лайков.', 'ранее в марте певица и актриса дженнифер лопес разыграла ди каприо в эфире «автомобильного караоке» джеймса кордена. гостья программы и ведущий отправили актеру кокетливое сообщение и получили ', 'ответ', '.']\n",
      "\n",
      "11 ['американский актер сильвестр сталлоне возмущенно отреагировал на рассказ британского комика и актера джека уайтхолла об оскаровской церемонии, сообщает nme. уайтхолл заявил о том, что ему якобы пришлось утешать сталлоне, который расстроился, не получив награды за роль второго плана в фильме «крид: наследие рокки».', '«я очень гордился своей номинацией, я много работал, чтобы получить ее. так зачем кому-то понадобилось сочинять оскорбительную ложь, которая только искажает прекрасные воспоминания. для чего?» — написал сталлоне в ', 'instagram', ', комментируя фото опубликованного daily mail 29 марта интервью уайтхолла.', '«никогда не встречал этого молодого человека. жаль, что все происходит таким образом», — добавил актер в ', 'twitter', '.', 'уайтхолл отреагировал на замечание сталлоне очередной шуткой. «грустно, что он не помнит встречу со мной. очевидно я не произвел большого впечатления. то же самое случилось со мной при встрече с имонном холмсом (ирландский тележурналист — ', 'прим. «ленты.ру»', ')», — сказал комик.', 'полностью реплика уайтхолла, касающаяся «оскара», выглядела так: «я наткнулся на сталлоне вскоре после церемонии. мне пришлось утешать его, говорить, что всегда есть возможность победить в следующем году. или если бы он снял \"крид 2\", то мог бы получить приз. кажется, я успокоил его».', '27-летний джек уайтхолл известен как стендап-комик, а также своим участием в телешоу «свежее мясо» и «плохое образование». он сыграл эпизодическую роль в фильме «день матери» (2016), в котором также снимались дженнифер энистон и джулия робертс.']\n",
      "\n",
      "14 ['архангельская епархия осудила выставку «линия любви. эротизм в творчестве великих мастеров xx века», которая открылась 14 марта в музее изобразительного искусства архангельска. по словам главы миссионерского отдела епархии протоиерея евгения соколова, показ такой экспозиции во время великого поста оскорбителен и неуместен. об этом сообщает местное издание flashnord.', '«жители города, наверное, имеют право знать имена своих героев. знать тех, кто умудрился особо издевательски приурочить открытие выставки к началу великого поста и намеренно разместить ее в здании музея, где хранятся древние иконы», — заявил соколов.', 'по его информации, на проведение выставки было выделено около 450 тысяч рублей. протоиерей назвал ее порнографической и отметил, что областные власти и раньше финансировали проекты, пропагандирующие распущенность и содомию.', 'в музее пока не прокомментировали ситуацию.', 'на выставке «линия любви» представлены литографии из частных коллекций. она включает работы пабло пикассо, анри матисса, эгона шиле и пауля вундерлиха. экспозиция будет работать еще несколько месяцев.', 'в 2012 году эротические гравюры пикассо осудил митрополит новосибирский и бердский тихон. по его словам, от выставки отказывались даже в москве, и только в новосибирске согласились ее показывать.']\n",
      "\n",
      "15 ['астрономы из сша и тайваня разделили карликовые планеты солнечной системы на две группы (в зависимости от средних плотностей и соотношения размеров небесных тел и их спутников). посвященный исследованию препринт авторы ', 'опубликовали', ' на сайте arxiv.org.', 'к первой группе карликовых планет ученые отнесли плутон (со спутником харон) и орк (с луной вант). по мнению ученых, эти небесные тела образовались в результате столкновений на низких скоростях с другими объектами, в результате чего их средняя плотность почти не изменилась (и равна около 1,8 грамма на кубический сантиметр).', 'системы плутон-харон и орк-вант похожи друг на друга, поскольку их центры тяжести расположены вне самих небесных тел, а размеры и массы карликовых планет сопоставимы с таковыми у своих спутников.', 'ко второй группе карликовых планет ученые отнесли эриду, хаумею и квавар, а также тритон. эти небесные тела, в отличие от плутона и орка, потеряли большое количество льда (до нескольких десятков процентов) от своей первоначальной массы в результате интенсивных столкновений со своими спутниками или другими объектами.', 'тритон, в настоящее время являющийся спутником нептуна, отнесен учеными в этом исследовании к карликовым планетам, поскольку многими астрономами небесное тело считается захваченным планетой из пояса койпера (расположенного на расстоянии от 30 до 55 астрономических единиц от солнца).', 'астрофизики отмечают, что проведение более  детальной классификации карликовых планет затрудняет недостаточная информация о параметрах небесных тел и их спутниках (плотности, размерах и взаимном расстоянии). это же мешает проведению компьютерного моделирования, воспроизводящего рождение карликовых планет и их спутников.']\n"
     ]
    },
    {
     "name": "stdout",
     "output_type": "stream",
     "text": [
      "\n",
      "16 ['астрофизики бенджамин бромли (из смитсоновской астрофизической обсерватории, сша) и скотт кеньон (из университета юты) оценили максимально допустимое число суперземель, которые могли бы возникнуть в солнечной системе. посвященный исследованию препринт авторы ', 'опубликовали', ' на сайте arxiv.org.', 'ученые полагают, что в гравитационном нестабильном кольце твердых тел, вращающихся вокруг солнца, могло возникнуть не более десяти суперземель. этот процесс может занять 100-250 миллионов лет в случае, если небесные тела формируются на расстоянии 250 астрономических единиц от солнца, и 1-2 миллиарда лет, если в три раза дальше. под суперземлями в своем исследовании ученые понимают планеты, которые до 50 раз тяжелее земли.', 'возникновение более десяти суперземель возможно за время, превышающее современный возраст солнечной системы (то есть маловероятно). в другой своей работе те же ученые ', 'рассмотрели', ' сценарий, в котором суперземли образуются недалеко от солнца, после чего некоторые из них превращаются в планеты наподобие урана и нептуна, которые гравитацией газовых гигантов (юпитера и сатурна) выбрасываются на окраину системы (на расстояния до 300 астрономических единиц).', 'к своим выводам ученые пришли, проведя компьютерное моделирование с учетом параметров планеты х, на существование которой указывают астрономы майк браун и константин батыгин из калифорнийского технологического института в пасадене. ученые сообщили об обнаружении за пределами орбиты плутона объекта размером с нептун, который в десять раз тяжелее земли. потенциальная девятая планета системы вращается вокруг солнца по вытянутой орбите (и в наклонной относительно орбиты земли плоскости) с периодом в 15 тысяч лет. ее химический состав похож на таковые у газовых гигантов урана и нептуна.']\n",
      "\n",
      "17 ['астрофизики впервые наблюдали белый карлик, в атмосфере которого доминирует кислород. ранее существование таких объектов предсказывалось теоретически. посвященная исследованию работа опубликована в журнале science.', 'белый карлик sdss j124043.01+671034,68 обнаружен учеными при анализе данных sdss (sloan digital sky survey). этот объект сбросил внешнюю оболочку из легких элементов, оставив на своей поверхности слой, состоящий главным образом из кислорода. ученые, по их словам, впервые обнаружили белый карлик с кислородной атмосферой. такой объект, по их мнению, может быть конечной стадией эволюции некоторых сверхновых звезд. присутствие кислорода на умершей звезде ученые объясняют двумя способами.', 'первый сценарий предполагает, что кислород на поверхности белого карлика попал от звезды-компаньона. вторая гипотеза: взрыв сверхновой звезды инициировал сброс оболочки из легких элементов, но сохранил более тяжелые (кислород).', 'белые карлики имеют массу, сравнимую с массой солнца, и радиусы, до ста раз меньшие радиуса солнца. они являются конечной стадией эволюции звезд типа солнца, когда после прекращения термоядерных реакций с участием водорода звезда раздувается до красного гиганта, который сбрасывает свою внешнюю оболочку, в результате чего образуется так называемая планетарная туманность с белым карликом в центре.']\n",
      "\n",
      "18 ['астрофизики при помощи космического телескопа hubble сделали в инфракрасном диапазоне снимок центра галактики млечный путь, в котором насчитывается более полумиллиона звезд и находится сверхмассивная черная дыра стрелец a*. об этом ', 'сообщается', ' на сайте наса.', 'картина охватывает район галактики диаметром 50 световых лет. центр млечного пути удален от земли на расстояние 27 тысяч световых лет. ученые полагают, что в нем может быть более 10 миллионов звезд, большинство из которых не видно из-за густых облаков межзвездной пыли, рассеивающей свет.', 'сверхмассивная черная дыра в четыре миллиона раз тяжелее солнца. ее окружают светила, которые образуют самое плотное звездное скопление млечного пути. распределение светил в ядре галактики настолько густое, что все они поместились бы в области пространства между солнцем и его ближайшим соседом — двойной (или тройной) звездой α центавра.', 'снимок позволит ученым понять природу центра млечного пути. звездная материя в него могла попасть с окраин галактики или из шаровых звездных скоплений. телескоп hubble запущен в космос 24 апреля 1990 года при помощи шаттла discovery. на следующий день обсерватория вышла на расчетную низкую околоземную орбиту и приступила к работе. масса hubble достигает 11 тонн. его сход с орбиты, как ожидается, произойдет не ранее 2030-го. обсерватория способна исследовать космос в видимом, инфракрасном и ультрафиолетовом диапазонах излучения.']\n",
      "\n",
      "19 ['астрофизики ребекка мартин и марио ливио из университета невады в рино (сша) объяснили возможное отсутствие суперземли в солнечной системе и механизм, благодаря которому очистилось пространство вокруг солнца внутри орбиты меркурия. посвященный исследованию препринт авторы ', 'опубликовали', ' на сайте arxiv.org.', 'астрофизики изучили влияние турбулентности на протопланетный диск вокруг звезды. в случае присутствия зон низкой турбулентности на небольшом расстоянии от светила могут образовываться суперземли. в случае, если небесное тело образуется на удалении от светила, его приближению к звезде могут мешать плотные слои протопланетного диска.', 'однако в случае отсутствия зон низкой турбулентности и низкой температуры протопланетного диска суперземли могут образовываться в непосредственной близости от звезды, расчищая пространство перед собой. эволюция таких небесных тел заканчивается падением на звезду. таким образом авторы объяснили отсутствие спутников солнца внутри орбиты меркурия.', 'ученые рассмотрели сценарии возникновения суперземли (экзопланет, которые до десяти раз тяжелее земли) в солнечной системе. вокруг большинства звезд суперземли вращаются на небольших расстояниях, тогда как в солнечной системе таких небесных тел нет (планета х, претендующая на роль суперземли, расположена на слишком большом расстоянии от светила).', 'ранее ученые ', 'оценили', ' максимально возможное число суперземель в солнечной системе. меркурий является самой малой и легкой планетой солнечной системы. он легче и меньше земли примерно в 20 раз, а его средняя плотность примерно такая же, как и у земли. год на планете длится около 88 дней. у нее нет спутников. потенциальная планета х является кандидатом в девятую планету солнечной системы. она представляет собой объект размером с нептун, в десять раз тяжелее земли и находится от солнца на максимальном расстоянии 600-1200 астрономических единиц.']\n",
      "\n",
      "21 ['биологи из медицинской школы университета северной каролины обнаружили, что некоторые часто используемые фунгициды, попадая в организм человека, могут вызвать изменения в генах, сходные с таковыми у людей с аутизмом и другими неврологическими заболеваниями. об этом сообщается на ', 'сайте', ' университета.', 'ученые испытали действие 300 различных химических веществ на мозг мышей, проверяя, какой эффект они оказывают на нервные клетки. исследователи выделили рнк из этих нейронов, чтобы определить гены, чьи функции пострадали от пестицидов. с помощью компьютерной программы биологи выяснили, какие вещества вызывали сходные изменения в активности генов.', 'исследователям удалось описать шесть групп веществ по их влиянию на мозг. при этом одна из групп влияет на гены таким образом, что их функции становятся характерными для людей, страдающих аутизмом или болезнью альцгеймера. в этот класс пестицидов вошли ротенон, пиридабен и фенпироксимат, а также фунгициды пираклостробин, трифлоксистробин, фенамидон и некоторые другие соединения.', 'ученые подчеркивают, что пока еще рано говорить, что данные вещества могут вызывать нейродегенеративные расстройства, хотя такая возможность есть.']\n",
      "\n",
      "22 ['биологи из пенсильванского университета выяснили, что по штаммам вируса герпеса можно проследить историю человеческой жизни, а также определить личность преступника. результаты исследования будут опубликованы в журнале virology. с пресс-релизом можно ', 'ознакомиться', ' на сайте университета.', 'ученые обнаружили, что вирус герпеса первого типа (впг-1), который вызывает всем знакомую «простуду» на губах, имеет несколько разновидностей. биологи определили это с помощью  расшифровки вирусных геномов, выделенных из организма добровольцев. один из штаммов имел европейское/североамериканское происхождение, а другой был родом из азии.', 'примечательно, что азиатская разновидность вируса была найдена у тех людей, которые проходили военную службу во время корейской войны в 50-х годах. по словам ученых, история жизни большинства людей может быть «записана» на молекулярном уровне вирусов.', 'ранние исследования показали, что географическое происхождение вируса может быть предсказано на основе биографии его носителя, поскольку впг-1 приобретается, как правило, в раннем возрасте. также вирус может быть использован в качестве метки для определения личности преступника, как дополнение к существующим методам анализа днк.', 'в настоящее время ученые занимаются разработкой новых эффективных методов расшифровки вирусных геномов, выделенных из ничтожно малого количества генетического материала, чтобы можно было успешно идентифицировать и сравнивать друг с другом различные образцы. это может обеспечить лучшее понимание генетического разнообразия вирусов, а также то, как различные штаммы могут влиять на ход болезни.', 'вирус простого герпеса передается через непосредственный контакт, а также предметы обихода. после того, как впг-1 встраивается в генетический аппарат нервных клеток, его нельзя удалить из человеческого организма с помощью существующих методов лечения. кроме того, ученые из колумбийского и манчестерского университетов обнаружили, что вирус герпеса может стимулировать развитие болезни альцгеймера.']\n"
     ]
    },
    {
     "name": "stdout",
     "output_type": "stream",
     "text": [
      "\n",
      "24 ['британский актер бенедикт камбербэтч посетил нью-йоркский магазин jhu comic books в образе доктора стрэнджа. актер играет этого супергероя вселенной marvel в одноименном фильме и в перерыве между съемками решил заглянуть в книжный, не меняя одежды и не смывая грима.', 'картина о бывшем нейрохирурге, ставшем верховным магом земли, выйдет в прокат осенью 2016 года.']\n",
      "\n",
      "30 ['в возрасте 96 лет в лондоне умер дуглас уилмер, исполнитель роли шерлока холмса в сериале «би-би-си» 1965-1968 годов. об этом сообщает the hollywood reporter.', 'он скончался в четверг, 31 марта, в больнице, расположенной в английском графстве саффолк, после непродолжительной болезни. диагноз не уточняется.', 'уилмер родился 8 января 1920 года в лондоне. учился на актера в королевской академии драматического искусства, какое-то время служил в северной африке. дебютировал на сцене в 1945 году, в 60-х стал играть в кино. согласно ', '«кинопоиску»', ', актер отметился примерно в 70 фильмах и сериалах.', 'в новом сериале про созданного артуром конан дойлом персонажа, роль детектива в котором исполнил бенедикт камбербэтч, уилмер появился в финальном эпизоде второго сезона. он также воплотил образ сыщика в картине «приключения хитроумного брата шерлока холмса» 1975 года.', '«дугласа уилмера запомнят за его остроумие, вечно удивленное отношение к жизни, широту души, неисчерпаемый запас историй и за проведенное время в его компании», — говорится в ', 'сообщении ', 'на сайте общества the sherlock holmes society of london, почетным членом которого являлся актер.']\n",
      "\n",
      "38 ['в подмосковном дмитрове был жестоко избит бас-гитарист группы «любэ» павел усанов. об этом сообщает lifenews. обстоятельства произошедшего уточняются.', '40-летний музыкант в бессознательном состоянии был госпитализирован в одну из московских больниц, его состояние оценивается как тяжелое.', 'по данным телеканала, у усанова диагностированы перелом основания свода черепа, закрытая черепно-мозговая травма и сотрясение головного мозга.', 'лидер группы николай расторгуев в беседе с ', '«русской службой новостей»', ' информацию о госпитализации бас-гитариста подтвердил.', 'усанов присоединился к «любэ» в 1996 году после гибели предыдущего басиста группы александра николаева.']\n",
      "\n",
      "39 ['в подмосковном дмитрове задержали 39-летнего мужчину, подозреваемого в избиении бас-гитариста группы «любэ» павла усанова. об этом в воскресенье, 3 апреля, ', 'тасс', ' сообщил источник в правоохранительных органах.', 'в отношении мужчины возбуждено уголовное дело по части 1 статьи 111 ук рф («умышленное причинение тяжкого вреда здоровью»).', 'в пресс-службе полиции московской области подтвердили задержание жителя солнечногорского района, но не сообщили имя человека, которому он нанес травмы.', '40-летний усанов был жестоко ', 'избит', ' в ночь на 2 апреля. его госпитализировали в одну из московских больниц в бессознательном состоянии. врачи оценили состояние музыканта как тяжелое. у него диагностировали многочисленные переломы и сотрясение мозга.', 'усанов присоединился к «любэ» в 1996 году после гибели в автокатастрофе предыдущего басиста группы александра николаева.']\n",
      "\n",
      "47 ['всемирное антидопинговое агентство (wada) проверяет сроки выведения мельдония из организма, но не собирается исключать препарат из списка запрещенных. об этом сообщила советник министра спорта россии наталья желанова. ее слова в субботу, 2 апреля, приводит «р-спорт».', '«в настоящее время ведутся исследования касательно сроков выведения мельдония. причем не только у нас, но и wada ведет соответствующие исследования. агентство говорило, что внесло этот препарат в запрещенный список и не собирается его из этого списка исключать. но исследования — совсем другое дело. ранее их никто не проводил», — сказала желанова.', 'советник министра рассказала об условиях для вынесения наказания за употребление мельдония: «необходимо понимать, сколько выводится препарат. сейчас ни одного решения о наказании спортсменов по делам с мельдонием не вынесено. я полагаю, что это связано именно с этим».', '1 апреля стало известно, что допинг-проба а члена сборной россии по скелетону павла куликова дала положительный результат на мельдоний. спортсмен ', 'попросил', ' содействия у министра спорта россии виталия мутко.', 'в начале марта в употреблении мельдония, который с 1 января включен в список запрещенных веществ, были уличены несколько российских спортсменов. среди них теннисистка мария шарапова, пловчиха юлия ефимова, фигуристка екатерина боброва, конькобежец павел кулижников, шорт-трекист семен елистратов и другие.', 'за использование мельдония спортсмен может быть отстранен от выступлений на четыре года.']\n",
      "\n",
      "56 ['инженеры из массачусетского технологического института разработали язык днк-программирования, который позволит человеку без углубленных знаний биологии создавать бактерии с желаемыми свойствами. статья с результатами работы опубликована в ведущем научном журнале science.', 'целью ученых было создание удобного инструмента для строительства биологического аналога логических схем внутри живой клетки. каждая такая схема, которая состоит из днк-компонентов, может быть помещена в бактерии, чтобы наделить их способностью правильно реагировать на определенные условия окружающей среды.', 'сначала пользователь, как и в других языках программирования, должен написать текстовый код, который затем компилируется, то есть переводится на язык нуклеиновых кислот. текст описывает логические компоненты, которые необходимы для выполнения требуемой функции, а компилятор подбирает соответствующие молекулы днк. по словам ученых, такой подход позволит спроектировать бактериальные клетки, способные производить лекарства от рака, а также дрожжи, которые останавливают процесс брожения, если накопилось слишком много токсичных продуктов.', 'за последние десятилетия биологи и инженеры разработали множество генетических устройств: датчики, носители памяти, биологические часы и многие другие. все они могут быть объединены в различные схемы, позволяющие усовершенствовать функции внутри клеток или даже добавлять новые. разработанный учеными язык днк-программирования позволяет создавать такие схемы человеку даже без специального образования.', 'в основе языка лежит verilog — среда для программирования компьютерных микросхем. чтобы получить ее версию для клеток, инженеры создали вычислительные элементы и биологические сенсоры, которые возможно закодировать в виде днк. сенсоры могут быть чувствительными к различным веществам вроде кислорода или глюкозы, а также к свету, температуре или кислотности среды.', 'ученым удалось создать 60 схем с различными функциями, при этом 45 из них правильно работали уже при первых испытаниях. одна из схем представляет собой крупнейшую из искусственных биологических цепей, которая включает в себя 12 тысяч спаренных оснований днк.', 'исследователи планируют усовершенствовать язык, чтобы получить бактерии, которые могли бы помочь человеку переваривать лактозу, жить в корнях растений и производить инсектициды, если на растения нападают вредители, и многие другие полезные организмы.', 'в прошлом году американское управление по контролю качества пищевых продуктов и лекарственных препаратов впервые ', 'одобрило', ' употребление в пищу генетически модифицированного лосося. также рассматривается возможность одобрения продажи комаров, которые не способны быть переносчиками опасных тропических болезней.']\n",
      "\n",
      "58 ['исландский силач хафтор бьернссон, сыгравший в четвертом сезоне сериала «игра престолов» григора клигана (известен по прозвищу гора), снялся в рекламе минеральной воды.', 'бьернссон объясняет, что секрет его богатырской силы заключается в жидкости, которую он советует покупать в бутылках в форме гантели весом в 10 килограммов. при этом актер покидает супермаркет, разбивая стеклянные двери.']\n",
      "\n",
      "64 ['кинокомпания universal pictures выпустила второй русскоязычный трейлер кинокартины «варкрафт», которая выйдет на российский экран 26 мая. первый трейлер был ', 'опубликован', ' в ноябре 2015 года. это фильм-фэнтези, действие которого происходит во вселенной warcraft, представленной в одноименной серии компьютерных игр.', 'фильм будет включать привычных героев и существ из вселенной игры: орков, грифонов, волков. экранизация посвящена первой войне между людьми (альянсом) и орками (ордой) в мире азерота. по словам авторов, обе стороны конфликта будут показаны так, чтобы не складывалось впечатление, будто одна олицетворяет собой зло, а другая — добро.', 'в картине снялись трэвис фиммел, бен фостер, пола пэттон, тоби кеббелл, доминик купер, роберт казински, дэниэл ву и рут негга. режиссером выступил дункан джонс (известный по фильму «луна 2112»).', 'планы создать фильм о вселенной warсraft впервые появились в 2006 году, однако съемки начались лишь спустя восемь лет.']\n"
     ]
    },
    {
     "name": "stdout",
     "output_type": "stream",
     "text": [
      "\n",
      "73 ['медики из университета алабамы в бирмингеме (сша) определили полезную функцию сальника — складки внутренностной брюшины, богатой жировыми отложениями. соответствующее исследование опубликовано в журнале trends in immunology.', 'как показали ученые, сальник выполняет иммунные функции: жидкость, циркулирующая между органами брюшной полости, фильтруется тканями складки. по мнению авторов, сальник первым в организме реагирует на инфекцию (появляется фиброз из-за реакции на антигены), по его состоянию можно отследить начальный этап развития болезни.', 'между тем, по мнению ученых, сальник имеет и недостаток, способствуя распространению метастазов в организме (попадая в складку из брюшной полости, раковые клетки там и остаются). в частности, сальник выступает в качестве питательной среды для рака яичников и желудка.', 'специалисты предлагают использовать сальник в качестве индикатора начала воспалительного процесса в организме, а также в как потенциальную цель для профилактики метастазов.']\n",
      "\n",
      "74 ['медики научились прогнозировать возможность развития ожирения у ребенка в утробе матери. исследование ученых представлено 1 апреля 2016 года на совещании эндокринологического общества сша. кратко о нем сообщается на сайте eurekalert!', '«имт на 6, 12 или 18 месяцев выше 85 процентиля на диаграмме роста может точно предсказать опасность возникновения раннего ожирения у детей», — сказала доктор эллисон смигоу из эндокринологического отделения детской больницы цинциннати (огайо, сша).', 'в своей работе авторы изучили несколько групп тучных (480 человек) и худых (783 человек) детей в возрасте от двух до шести лет. у тех из них, кто страдает тяжелой степенью ожирения, имт стал отличаться от физиологически приемлемого уже в возрасте шести месяцев (после зачатия).', 'ранее ученые не рекомендовали измерять имт у детей младше двух лет. теперь медики рекомендуют проводить замеры этого показателя с шести месяцев (начиная с зачатия). таким образом ученые планируют контролировать развитие ожирения на его ранних этапах.', 'имт (индекс массы тела) взрослых людей определяется как отношение массы тела (в килограммах) к квадрату длины тела (в метрах) и позволяет определить наличие избыточного веса. например, при массе тела 67 килограммов и росте 1,7 метра имт равен 23.', 'имт детей рассчитывается таким же образом, но физиологически стандартные его значения учитывают возрастные особенности развития, которые фиксируются при помощи специальных процентильных диаграмм. имт выше 85-90 процентиля считается признаком ожирения.']\n",
      "\n",
      "75 ['международная группа ученых при участии исследовательницы из мгу показала, в каких условиях в организме выделяется больше супероксида — опасной формы кислорода, способной разрушать днк. статья, посвященная этому открытию, опубликована в журнале free radical biology and medicine, а коротко о ней сообщается в пресс-релизе, поступившем в редакцию «ленты.ру».', 'мутации в гене, кодирующем белок dhtkd1, сопутствуют многим неврологическим заболеваниям, а на молекулярном уровне — накоплению продуктов распада аминокислот лизина и триптофана и свободных радикалов. структура белка dhtkd1 похожа на структуру фермента 2-оксоглутаратдегидрогеназы, который может производить супероксид — опасную форму кислорода, способную разрушать днк. исследователи выяснили, в каких условиях возрастает продукция супероксида за счет белка dhtkd1.', 'супероксид — это токсичная форма кислорода, которая при накоплении в большом количестве способна повреждать днк, вызывая мутации, и нарушать слаженную работу ансамбля других химических реакций. борется клетка с «ядовитыми» формами кислорода с помощью антиоксидантов (веществ, препятствующих окислению) и белков системы антиоксидантной защиты.', 'нехватка аминокислот может снижать синтез ферментов (белков, ускоряющих конкретные химические реакции в организме). так, недостаток аминокислот (кирпичиков для строительства белков) лизина и триптофана может вызывать физические, неврологические и умственные расстройства и даже привести к летальному исходу. эти аминокислоты относятся к незаменимым и синтезироваться в организме человека из других веществ не могут, поэтому должны поступать с пищей.', '2-аминоадипат и 2-оксоадипат — вещества, образующиеся при расщеплении лизина, триптофана и гидроксилизина (точнее, их l-форм, закрученных влево, — в таком виде существуют почти все аминокислоты, входящие в состав белков).', 'недавно ученые нашли связь ацидурии (повышенной кислотности мочи, указывающей на тяжелые нарушения обмена веществ) у пациентов с повышенным содержанием в моче 2-аминоадипата и 2-оксоадипата с мутациями в белке dhtkd1. это подтверждает  обоснованную исследователями из мгу гипотезу, что белок-фермент, закодированный в dhtkd1, окисляет 2-оксоадипат. у некоторых пациентов высокие уровни 2-аминоадипата и 2-оксоадипата тяжело диагностировать, и расстройства протекают без симптомов. поэтому связать конкретные мутации с заболеваниями не получается.', 'белок dhtkd1 в большом количестве производится в клетках печени и почек, где активно расщепляются лизин и триптофан, а у людей — и в скелетных мышцах. как подавление, так и усиление активности гена, ответственного за производство этого белка, повышает уровень реактивных, опасных форм кислорода.']\n",
      "\n",
      "76 ['международная группа ученых продемонстрировала, что лишний вес в большинстве случаев возвращается даже после длительной и значительной его потери. свой доклад исследователи представили на ежегодной встрече эндокринного общества в бостоне. об этом ', 'сообщается', ' на сайте eurekalert!', 'по словам джоанны хуан, ведущего автора работы, около двух третей взрослых американцев имеют избыточный вес или страдают ожирением, что не может не влиять на экономику и здравоохранение страны.', 'ученые рассмотрели более чем пятилетнюю медицинскую историю 177 тысяч пациентов, страдающих ожирением. исследователи изучили динамику изменения индекса массы тела — величины, отражающей соответствие между массой и ростом человека. на основе данных по уменьшению веса в течение шести месяцев после первого измерения, исследователи разбили пациентов на четыре группы: стабильные (с потерей веса менее пяти процентов), скромные (5-10 процентов), умеренные (10-15 процентов), высокие (более 15 процентов).', 'те, кто потерял больше веса в течение шести месяцев, с большей вероятностью продолжали его снижать. доля таких людей в четвертой группе составила 11,1 процента. всего 4,1 процента пациентов продолжали худеть в группе умеренной потери веса и два процента — в скромной.', 'однако 40, 35,9 и 18,6 процента во второй, третьей и четвертой группе соответственно восстановили более половины их веса в течение всего периода наблюдений. кроме того, для подавляющего большинства в каждой из групп были характерны циклические изменения массы тела, при которых они теряли и возвращали свой вес.', '«этой проблеме нужно уделить особое внимания. мы надеемся, что наши результаты подтверждают необходимость длительных, последовательных и сознательных усилий по борьбе с лишним весом», — полагает хуан.']\n",
      "\n",
      "77 ['министр спорта россии виталий мутко прокомментировал открытое письмо скелетониста павла куликова, которого уличили в применении мельдония. слова министра в субботу, 2 апреля, приводит ', 'тасс', '.', '«я всегда реагирую на обращения спортсменов и всегда стараюсь им оказывать поддержку на протяжении всей работы в спорте. естественно, я ознакомился с открытым письмом скелетониста куликова. в ближайшее время мы встретимся со спортсменом и посмотрим, чем мы можем оказать ему помощь. никто куликова не бросит», — сказал мутко.', 'куликов заявил, что не принимал мельдоний с августа 2015 года. спортсмен ', 'попросил', ' содействия мутко в вопросе вскрытия пробы б.', 'о том, что допинг-проба а члена сборной россии по скелетону павла куликова дала положительный результат на мельдоний стало известно 1 апреля.', 'в начале марта в употреблении мельдония, который с 1 января включен в список запрещенных веществ, были уличены несколько российских спортсменов. среди них теннисистка мария шарапова, пловчиха юлия ефимова, фигуристка екатерина боброва, конькобежец павел кулижников, шорт-трекист семен елистратов и другие.', 'за использование мельдония спортсмен может быть отстранен от выступлений на четыре года.']\n"
     ]
    },
    {
     "name": "stdout",
     "output_type": "stream",
     "text": [
      "\n",
      "86 ['наса представило трехмерный снимок участка плутона, представляющего одну из самых странных форм рельефа, когда-либо наблюдаемых на поверхности небесного тела в солнечной системе. о клиновидных ландшафтах («змеиной коже») карликовой планеты ', 'сообщается', ' на сайте агентства.', 'на снимке показана область тартара дорса, которая расположена на восточной оконечности региона томбо (равнины в форме сердца). она простирается с севера на юг и представляет собой массив закругленных холмов высотой около 500 метров, отделенных друг от друга на 3-5 километров плоскими долинами.', 'ученые не знают происхождение этих геологических структур (клиновидных, змеинообразных или чешуйчатых ландшафтов). по одной из гипотез, они возникли в результате эрозии от сублимации водяного льда и отложений твердого метана, по другой они ', 'сформированы', ' метановыми ', 'клатратами', ' и представляют собой одни из самых древних структур в солнечной системе.', 'трехмерное изображение получено наложением двух снимков, сделанных научным инструментом mvic (multispectral visible imaging camera) автоматической станции new horizons 14 июля 2015 года с расстояний 25 тысяч и 17 тысяч километров от поверхности карликовой планеты. разрешение лучшего снимка достигает 310 метров на пиксель.', 'станция new horizons в данный момент находится на расстоянии нескольких миллиардов километров от земли. ожидается, что в 2019 году она достигнет планетоида 2014 mu69, находящегося на расстоянии 1,6 миллиарда километров от плутона в поясе койпера. миссия new horizons должна завершиться в середине 2020-х годов. основная задача new horizons — изучение плутона и его спутника харона. научное оборудование, установленное на станции, предназначено для сбора данных о возможном наличии магнитосферы у карликовой планеты, составе ее атмосферы и строении поверхности, а также о взаимодействии с хароном.']\n",
      "\n",
      "89 ['норвежские геофизики установили происхождение гигантских кратеров на дне баренцева моря. соответствующее исследование опубликовано в журнале science, кратко о нем ', 'сообщает', ' центр по исследованию арктического газового гидрата, климата и окружающей среды (норвегия).', 'крупные кратеры на дне баренцева моря, скорее всего, возникли в конце последнего ледникового периода в результате распада газовых гидратов. разложение данных кристаллических соединений, в которые заперт природный газ, привело к взрывному высвобождению метана и сформировало наблюдаемые сегодня придонные рельефы.', 'к подобным выводам авторы пришли, проанализировав около ста кратеров на дне баренцева моря диаметром 300-1000 метров.', 'с помощью моделирования ученые оценили период, когда начался распад газовых гидратов (примерно 15-17 тысяч лет назад), который из-за уменьшения давления воды завершился (около 11 тысяч лет назад) взрывом придонных пузырей с метаном.', 'это исследование важно для оценки транспорта метана в гидросферу и атмосферу планеты, поскольку природное соединение представляет собой сильный парниковый газ. аналогичные газовые гидраты, но меньших размеров, распространены в сибири.']\n",
      "\n",
      "90 ['орбитальный телескоп ека (европейского космического агентства) xmm-newton (x-ray multi-mirror mission) впервые обнаружил в туманности андромеды вращающуюся нейтронную звезду. об этом ', 'сообщается', ' на сайте ека.', 'обнаруженная нейтронная звезда вращается вокруг своей оси с периодом 1,2 секунды и вокруг звезды-компаньона с периодом 1,3 суток. соседнее светило служит источником материи, которая истекает на нейтронную звезду.', 'поиски нейтронных звезд в туманности андромеды велись в течение нескольких последних десятилетий, но только в 2015 году ученым, анализируя полученные xmm-newton данные, удалось зарегистрировать такой объект в двух из 35 наблюдениях.', 'нейтронные звезды представляют собой плотные остатки от взрыва сверхновых. как правило, светила находят в двойных системах, излучение которых позволяет их обнаружить. нейтронные звезды часто встречаются в млечном пути.', 'туманность андромеды расположена на расстоянии около 2,5 миллиона световых лет от земли в одноименном созвездии. ее радиус превышает 120 тысяч световых лет. считается, что через пять миллиардов лет андромеда, как самая крупная галактика в местной группе, поглотит млечный путь.']\n",
      "\n",
      "92 ['палеонтологи из манчестерского университета окончательно доказали, что невозможно воскресить динозавров по остаткам найденных в их костях белка. об этом сообщается в пресс-релизе, ', 'опубликованном', ' на сайте phys.org.', 'ученые проанализировали следы коллагена в останках тираннозавра, чтобы выяснить, действительно ли органическое вещество принадлежало динозавру. многие специалисты считали, что белок, обнаруженный в окаменевших костях древних ящеров, на самом деле является результатом загрязнения проб и принадлежит современным животным.', 'результаты исследования показали, что «ископаемый» коллаген соответствует коллагену, выделенного из костей страусов. биополимеры (днк и белки) последних используются в исследованиях для определения эволюционных отношений между вымершими и ныне существующими организмами. это опровергает точку зрения, согласно которой древние биополимеры, в том числе белки, могут содержаться в окаменелостях, возраст которых составляет десятки миллионов лет.', 'отсутствие в костях динозавров доисторических биологических молекул делает невозможным воссоздание ящеров с помощью методов биотехнологии.']\n",
      "\n",
      "99 ['полиция эвакуирует посетителей рок-фестиваля rock am ring в немецком нюрбурге (земля рейнланд-пфальц) из-за высокого риска террористической атаки. об этом ', 'сообщили', ' организаторы в  официальном twitter-аккаунте шоу.', 'посетителей попросили организованно направиться в зону кемпинга.  отмечается, что фестиваль приостановлен до дальнейшего уведомления. предположительно, он продолжится завтра.', 'rock am ring — один из крупнейших рок-фестивалей мира. он ежегодно проходит в нюрбурге в первые выходные июня. на фестивале за время его существования играли the who, ac/dc, deep purple, scorpions, dio, van halen, rolling stones, оззи осборн. на шоу, которое должно было продлиться три дня, было продано более 80 тысяч билетов. в этом году хедлайнерами заявлены in flames, rammstein, system of a down.', 'в 2012 году на этом рок-фестивале в результате удара молнии ', 'пострадали', ' 42 человека, восемь из них госпитализированы.', '30 мая немецкая полиция ', 'задержала', ' 17-летнего сирийца по подозрению в подготовке теракта. по словам министра внутренних дел федеральной земли бранденбург карла-хайнца шретера, молодой человек собирался совершить нападение в берлине.', '5 июля 2003 года две террористки-смертницы ', 'подорвали', ' себя в толпе у входа на территорию московского аэродрома «тушино», где проходил рок-фестиваль «крылья». тогда погибли 14 человек, десятки были ранены.']\n",
      "\n",
      "102 ['премия «ника» в главной номинации — «лучший фильм года» присуждена киноленте «милый ханс, дорогой петр» александра миндадзе, передает ', '«интерфакс»', '. миндадзе также получил премию за лучший сценарий.', 'лучшей режиссерской работой признан фильм станислава говорухина «конец прекрасной эпохи» по произведениям сергея довлатова. оператор этой картины геннадий карюк и художник-постановщик валентин гидулянов получили премию в соответствующих номинациях.', 'приз за лучшую музыку присужден петру тодоровскому и алексею айги за фильм миры тодоровской «встреча на эльбе».', 'лучшими актрисами в главной роли и роли второго плана названы ирина купченко («училка» алексея петрухина) и инна чурикова («страна оз») соответственно. лучшим актером второго плана стал михаил ефремов («про любовь» анны меликян). приз за лучшую мужскую роль получили сразу два актера — данила козловский («духлесс-2») и александр яценко («инсайт») александра котта.', 'в номинации «лучший фильм стран снг и балтии» победила лента «небесное кочевье» киргизского режиссера мирлана абдыкалыкова.', 'премию в номинации «лучший анимационный фильм» получил «волк вася» екатерины соколовой.', '29-я церемония вручения премия «ника» прошла в москве в пятницу, 1 апреля.']\n",
      "\n",
      "104 ['примерно 20 процентов населения земли через 10\\xa0лет (к 2025 году) будет страдать от ожирения. ученые призывают политиков принять необходимые меры для предотвращения развития эпидемии. исследование медиков из коллаборации ', 'ncd risk factor', ' опубликовано в журнале the lancet, кратно о нем сообщает sky news.', 'согласно работе ученых, начиная с 1975 года каждые 10\\xa0лет средняя масса человека увеличивается на 1,5 килограмма. в случае если эта тенденция сохранится, в 2025 году 18 процентов мужчин и 21 процент женщин в мире будут страдать ожирением, из них 6 и 9 процентов соответственно — его тяжелой формой.', 'с 1975 по 2014 год средний имт (индекс массы тела) увеличился с 21,7 до 24,2. ожирение диагностируется у тех, чей имт превышает 25 (за исключением людей с развитой мышечной тканью, в частности профессиональных спортсменов). параметр определяется как отношение массы тела (в килограммах) к квадрату длины тела (в метрах).', 'самое большое число страдающих ожирением насчитывается в китае: 43,2 миллиона мужчин и 46,4 миллиона женщин (в 2014 году). наиболее высокая доля страдающих ожирением наблюдается в ирландии, кипре и на мальте, самая низкая — в странах южной азии (где четверть населения имеет недостаточную массу тела), центральной и восточной африки.', 'в своем исследовании ученые проанализировали имт 19,2 миллиона людей (9,9 миллиона мужчин и 9,3 миллиона женщин) старше 18 лет из примерно 200 стран, представляющих 21 регион земли. использованный материал охватывал данные, собранные с 1975 по 2014 год.']\n"
     ]
    },
    {
     "name": "stdout",
     "output_type": "stream",
     "text": [
      "\n",
      "107 ['пятый канал опубликовал видео с места аварии, в которую попал режиссер эмир кустурица. продюсер кинематографиста мирко раденович сообщил национальной службе новостей (нсн), что кустурица, находившийся на пассажирском сиденье, не получил телесных повреждений. при этом пострадал водитель.', 'дтп ', 'произошло', ' в сербии на дороге между чачаком и белградом. водитель автомобиля mercedes не справился с управлением, и машина вылетела в кювет.']\n",
      "\n",
      "109 ['режиссер лилли вачовски, ранее известная как энди, впервые появилась на публике после смены пола. она выступила на церемонии вручения премии glaad media awards, где получила награду за лучший драматический сериал («восьмое чувство»). вачовски произнесла речь о нелегком пути трансгендеров и необходимости бороться за право быть такой, какой хочется.', '«искусство никогда не бывает статичным, а идеи об идентичности и трансформации — важная часть нашей работы. но все идеи опираются на любовь. любовь — важнейшая вещь для транссексуалов. слишком многие из нас делают неправильный выбор между любовью и смертью, поэтому нам важно об этом говорить — не столько для других, сколько для нас самих», — отметила вачовски.']\n",
      "\n",
      "128 ['сербский режиссер, актер и музыкант эмир кустурица попал в дтп. об этом сообщает портал srbija danas в пятницу, 2 июня.', 'авария произошла в сербии на дороге между чачаком и белградом. кустурица находился на пассажирском сиденье автомобиля марки mercedes. водитель не справился с управлением, и машина вылетела в кювет.', 'на место инцидента приехали медики. они оказали пострадавшим первую помощь, после чего отправили их в больницу. о состоянии здоровья кустурицы и водителя машины пока не сообщается.', '62-летний эмир кустурица дважды удостаивался «золотой пальмовой ветви» каннского фестиваля — за фильмы «папа в командировке» и «андерграунд». последняя его картина, «по млечному пути» с моникой беллуччи, вышла в январе 2017 года. в ней он выступил в качестве режиссера и актера. кустурица также снялся в таких лентах, как «вдова с острова сен-пьер», «хороший вор», «клубничка в супермаркете» и «пеликан».', 'в ноябре 2016-го президент россии владимир путин ', 'вручил', ' сербскому режиссеру орден дружбы.']\n",
      "\n",
      "129 ['скелетонист павел куликов, которого уличили в применении мельдония, написал открытое письмо министру спорта россии виталию мутко, сообщает в субботу, 2 апреля, «р-спорт». в обращении спортсмен рассказал о причине запрета препарата, а также попросил оказать содействие в установлении истины в его деле о применении мельдония.', 'по словам спортсмена, причину включения мельдония всемирным антидопинговым агентством (wada) в список запрещенных препаратов ему назвал латышский допинг-офицер, представляющий британское антидопинговое агентство. «он сообщил мне, что в последнее время было обнаружено много случаев применения мельдония, так как препарат был включен в список запрещенных руководством wada только из-за популярности применения препарата среди спортсменов стран снг», — говорится в письме.', 'относительно положительного допинг-теста, куликов заявил, что не принимал мельдоний с августа 2015 года. скелетонист уточнил, что проба а была взята у него 10 марта текущего года в санкт-петербурге. по его словам, «научно доказано, что следы мельдония в моче могут обнаруживаться спустя месяцы после применения».', '«мне предлагают в короткий срок подать запрос о проведении процедуры вскрытия пробы б, без получения результатов пробы а. в случае моего отказа от вскрытия пробы б я буду считаться признавшим свою вину в применении запрещенного препарата. прошу вас оказать содействие в этом вопросе», — говорится в обращении.', 'о том, что допинг-проба а члена сборной россии по скелетону павла куликова дала положительный результат на мельдоний стало известно 1 апреля. «спортсмен будет отстранен до выяснения причин. он заявляет, что не употреблял мельдоний в 2016 году», — приводит ', 'тасс', ' слова директора федерации бобслея россии (фбр) кирилла серикова.', 'в начале марта в употреблении мельдония, который с 1 января включен в список запрещенных веществ, были уличены сразу несколько российских спортсменов. среди них теннисистка мария шарапова, пловчиха юлия ефимова, фигуристка екатерина боброва, конькобежец павел кулижников, шорт-трекист семен елистратов и другие.', 'wada относит мельдоний к разряду s4 — гормоны и модуляторы метаболизма. за его использование спортсмен может быть отстранен от выступлений на четыре года.', 'мельдоний был синтезирован в 1975 году в риге латвийским профессором иваром калвиньшем. является средством профилактического лечения инфаркта. создатель препарата ранее ', 'заверил', ', что мельдоний не приводит к увеличению энергоотдачи или улучшению физических способностей человека. он также ', 'заявлял', ', что срок вывода вещества из организма может составлять несколько месяцев.']\n",
      "\n",
      "133 ['студия артемия лебедева представила колор, с помощью которого можно превратить черно-белые фотографии в цветные. функция доступна на ', 'сайте', ' color.artlebedev.ru.', '«колор автоматически раскрашивает любое монохромное изображение на основе алгоритмов машинного обучения», — говорится в описании инструмента.', 'по словам разработчиков, нейронная сеть анализирует каждый пиксель изображения, определяя его цвет на основе сразу нескольких алгоритмов.', 'загрузить изображение на сайт может любой пользователь. при этом есть ограничение по размеру картинки — он не должен превышать 1,5 мегабайт.', 'ранее в мае ', 'сообщалось', ', что специалисты калифорнийского университета в беркли продемонстрировали новую версию своей программы на основе нейросетей, которая автоматически раскрашивает черно-белые фотографии.']\n",
      "\n",
      "137 ['ученые из американского колледжа макалистер вычислили самого важного героя сериала «игра престолов», сообщает entertainment weekly. им оказался тирион ланнистер.', 'профессор математики эндрю беверидж и его ученик джай шен подготовили к публикации работу «сеть престолов», в которой рассказывается об их исследовании книги джорджа мартина «буря мечей», положенной в основу третьего и четвертого сезона сериала.', 'ученые приняли во внимание такие факторы, как количество персонажей, с которыми связан тот или иной герой, частота взаимодействия между героями и статус каждого из них. три персонажа выделялись среди остальных: тирион ланнистер, джон сноу и санса старк.', '«будучи десницей короля, тирион прорывается в центр политических махинаций столицы. наш анализ говорит о том, что он и есть самый важный персонаж», — говорит беверидж.', 'тирион ланнистер — карлик с глазами разного цвета, младший сын лорда тайвина ланнистера. он использует свой интеллект, чтобы преодолеть предубеждения других людей относительно себя. в сериале тириона играет питер динклэйдж.', '«игра престолов» — американский фэнтези-сериал, который начал выходить в эфир весной 2011 года. он основан на циклах романов американского писателя джорджа мартина «песнь льда и огня». премьера шестого сезона состоится 24 апреля. на ближайшие годы запланировано еще по крайней мере два сезона — седьмой и восьмой.']\n",
      "\n",
      "138 ['ученые из мгу в составе международной научной коллаборации ligo приняли участие в третьей за всю историю регистрации гравитационных волн. об этом сообщается в пресс-релизе, поступившем в «ленту.ру».', 'как и в первых двух случаях, волны были порождены столкнувшимися черными дырами, в результате слияния которых образовалась новая черная дыра с массой, составляющей около 49 солнечных масс. выделившаяся энергия превышает световую энергию, излучаемую за это же время всеми звездами и галактиками во вселенной. сам источник находится на расстоянии около трех миллиардов световых лет от земли.', 'ученые обнаружили, что с большой вероятностью у черных дыр направления собственного вращения (спины) не совпадали, то есть они вращаются в разных направлениях. это значит, что объекты, по-видимому, сформировались в плотном звездном скоплении отдельно друг от друга, а уже затем образовали двойную систему.', 'исследователи сообщают, что гравитационные волны с разными частотами в исследуемом диапазоне распространяются от своего источника до земли с одной и той же скоростью — скоростью света.', 'физики надеются, что в будущем удастся зарегистрировать гравитационные волны не только от слияния черных дыр, но и нейтронных звезд, а также от других источников, на которые нацелены детекторы ligo.']\n"
     ]
    },
    {
     "name": "stdout",
     "output_type": "stream",
     "text": [
      "\n",
      "139 ['ученые из университета джона хопкинса разработали новый способ борьбы с ожирением, который позволит избежать оперативного вмешательства. результаты работы исследователи ', 'представили', ' на ежегодной конференции общества интервенциональной радиологии.', 'новый метод называется «бариатрическая артериальная эмболизация». его мишенью является определенная часть желудка, фундус, который производит грелин — гормон, возбуждающий у человека аппетит. медики используют радиологические изображения и катетеры для доступа к кровеносным сосудам этой части желудка через прорезы в паху либо в запястье.', 'врач впрыскивает пациенту микроскопические бусинки, которые уменьшают приток крови к фундусу, тем самым подавляются гормональные сигналы голода, что приводит к снижению аппетита и потере веса.', 'методика была опробована на семи добровольцах с тяжелым ожирением с индексом массы тела от 40 до 60 килограммов на квадратный метр. для сравнения: у здорового человека индекс равен в среднем 21 килограмм на квадратный метр. лечение обошлось без побочных эффектов, а пациенты в первый месяц потеряли почти шесть процентов веса. за шесть месяцев этот показатель увеличился до 13 процентов.', 'ученые подчеркивают, что бариатрическая эмболизация находится лишь на ранней стадии клинических испытаний. теперь, когда была продемонстрирована безопасность процедуры, необходимы дополнительные исследования, чтобы определить действенность и продолжительность лечения.']\n",
      "\n",
      "141 ['ученые из эдинбургского университета выяснили, что мутации в генах apoe и chrna (их нашли у 70 процентов населения великобритании) лишают их обладателей в среднем года жизни. открытие представлено в журнале nature communications, а коротко о нем рассказывает the telegraph.', 'исследователи изучили днк 150 тысяч жителей великобритании, чтобы понять, насколько конкретные мутации связаны с возрастом смерти их носителей. оказалось, что носители мутированных генов apoe и chrna умирают раньше на 12 месяцев. при этом носители обеих мутаций умирают уже на четыре года раньше (таких примерно трое на тысячу).', 'ученые связывают данные гены с заболеваниями дыхательной системы и с болезнью альцгеймера. однако они советуют не паниковать и напоминают, что образ жизни влияет на здоровье не меньше, а иногда даже больше, чем гены.', 'кроме того, ученые отмечают, что в будущем люди будут проходить скрининг на генетические мутации. зная о предрасположенности к той или иной болезни, они смогут предпринять меры: например, обладателям мутаций в гене chrna лучше не курить, так как у них повышенный риск рака легких.', 'также оказалось, что мутации по-разному влияют на мужчин и женщин. вариант, связанный с болезнью альцгеймера, сильнее воздействует на женщин, с легочными заболеваниями — на мужчин.']\n",
      "\n",
      "142 ['ученые проекта seti (search for extraterrestrial intelligence) предложили искать инопланетные цивилизации вблизи красных карликов. в настоящее время эти небесные тела, как правило, не рассматриваются в качестве источников жизни. об этом ', 'сообщается', ' на сайте seti.', 'сигналы разумной жизни астрономы seti в ближайшие два года планируют искать от более 20 тысячах красных карликов. светила выбраны из 70 тысяч таких звезд. исследование собирается вестись на обсерватории ata (allen telescope array) и планируемом tess (transiting exoplanet survey satellite).', 'выбор красных карликов в качестве цели для поиска разумных цивилизаций ученые объясняют следующим образом. во-первых, примерно три четверти звезд во вселенной являются красными карликами: такие объекты более распространены, чем солнцеподобные звезды (можно исследовать большое число таких небесных тел).', 'во-вторых, эти светила — одни из самых старых звезд (они на несколько миллиардов лет старше солнца), что дает достаточно времени для развития в их окрестностях разумной жизни. в третьих, уже обнаружено большое число экзопланет, вращающихся вокруг красных карликов.', 'небесные тела располагаются к своей звезде ближе, чем земля к солнцу, и обычно повернуты одной стороной к светилу. вследствие этого, одна из сторон экзопланеты разогревается до высоких температур, а другая — до необходимых для поддержания жизни температур.', 'красный карлик представляет собой старую, небольшую и холодную звезду. такие светила примерно в три раза легче и в два раза холоднее (на своей поверхности) солнца.']\n",
      "\n",
      "148 ['японские биологи сумели превратить в победителей тех самцов рыбок данио, которые ранее терпели поражение в схватках с соперниками. для этого им пришлось подавить в мозгу животных участки, которые, как выяснили ученые, отвечают за «проигрыш». исследование опубликовано в журнале science.', 'для успешного существования группы важно, чтобы более сильные самцы занимали лучшую позицию в социальной иерархии. поэтому основной целью внутривидовой агрессии служит не убийство или нанесение серьезных повреждений противнику, а борьба за социальный статус. победу, как правило, одерживает тот самец, которому удается обратить в бегство своего противника. наблюдая за конкуренцией среди рыбок данио, ученые решили выяснить, какие участки мозга животного отвечают за решение продолжить борьбу или отступить.', 'исследователи заставили аквариумных рыбок сражаться друг с другом в парах, а после борьбы оценивали электрофизиологическую активность участков мозга. ученые обнаружили, что победители демонстрируют нейронную активность, которая распространяется от боковой области спинной уздечки до промежуточного участка межножкового ядра. у рыб, которые проиграли бой, путь нейронного возбуждения немного отличается: от центральной части спинной уздечки до верхней области межножкового ядра.', 'ученые вывели генетически модифицированных рыб, у которых функции обнаруженных нервных путей были подавлены. в одном случае рыбы с заблокированными «нейронами победы» с большей вероятностью уступали своим соперникам, несмотря на свои большие размеры и высокий уровень агрессии. во втором случае данио с подавленными «нейронами поражения» побеждали в конфликте.', 'ранее биологи ', 'выяснили', ', что победа или поражение в схватках изменяет уровень активности генов в клетках мозга аквариумных рыбок. это, в свою очередь, влияет на их поведение и определяет социальный статус.']\n",
      "\n",
      "149 ['японским ученым впервые удалось вырастить искусственную кожу с функционирующими волосяными луковицами, железами и нервами. об этом сообщается в журнале science advances, а коротко о новой технике рассказывает the guardian.', 'исследователи работали с подопытными мышами. сначала они создали трехмерные сгустки клеток, напоминающие по форме эмбрионы. под воздействием химических веществ извлеченные из десен животных клетки были трансформированы в индуцированные плюрипотентные стволовые клетки.', 'затем эти «эмбрионоиды» имплантировали животным, страдающим от иммуннодефицита, где они проходили процесс дальнейшего развития. этот этап был необходим для того, чтобы кожные имплантаты могли вырасти без риска отторжения организмом животного. наконец, «готовую» кожу пересадили здоровым мышам. в итоге ученые получили полностью функциональную покровную ткань.', '«до последнего времени развитию технологий искусственной кожи мешало то, что в ней отсутствовали важные органы — волосяные луковицы и железы с внешней секрецией. теперь же нам удалось вырастить кожу, способную выполнять такие функции», — заявил ведущий автор исследования такаси цудзи (takashi tsuji).', 'ранее исследователям удавалось получить из стволовых клеток только тонкие слои клеток эпителия (внешнего слоя кожи, лишенного функциональных элементов). ткань же, полученная в лаборатории доктора цудзи, смогла без проблем соединиться с соседней кожей, нервами и мышцами. кроме того, на ней начали расти волосы.', 'открытие японских ученых поможет в лечении тяжелых ожогов, а также позволит найти альтернативу тестированию косметики на животных.']\n",
      "\n"
     ]
    }
   ],
   "source": [
    "for i in doc_clast[0]:\n",
    "    print(i,x[i]+'\\n')"
   ]
  },
  {
   "cell_type": "code",
   "execution_count": 44,
   "metadata": {},
   "outputs": [
    {
     "name": "stdout",
     "output_type": "stream",
     "text": [
      "-12929.6402888\n",
      "-12967.2176142\n",
      "-13086.4329558\n",
      "-13291.7354052\n",
      "-13597.4182395\n",
      "-14017.3346322\n",
      "-14558.4770705\n",
      "-15199.0282843\n",
      "-15864.9507736\n",
      "-16465.2881804\n",
      "-16946.4987537\n",
      "-17310.5985911\n",
      "-17589.441482\n",
      "-17807.5187918\n",
      "-17973.0472033\n",
      "-18090.8617707\n",
      "-18172.6841924\n",
      "-18231.7697387\n",
      "-18277.5808108\n",
      "-18316.4196306\n",
      "-18350.4350808\n",
      "-18378.6124382\n",
      "-18400.0386126\n",
      "-18415.7534135\n",
      "-18427.2057132\n",
      "-18435.4504553\n",
      "-18441.461046\n",
      "-18446.1040474\n",
      "-18449.9890194\n",
      "-18453.4621416\n",
      "-18456.6748424\n",
      "-18459.6570802\n",
      "-18462.3786694\n",
      "-18464.7958208\n",
      "-18466.879551\n",
      "-18468.625672\n",
      "-18470.0515841\n",
      "-18471.1874219\n",
      "-18472.0672468\n"
     ]
    }
   ],
   "source": [
    "for i in Func_L:\n",
    "    print(i)"
   ]
  },
  {
   "cell_type": "code",
   "execution_count": 104,
   "metadata": {
    "collapsed": true
   },
   "outputs": [],
   "source": [
    "# вектор с номерами кластеров, к которому документ предложит( вероятность больше всего)\n",
    "vec = np.argmax(pt_x_new, axis=0)\n",
    "\n",
    "#словарь: ключ - номер кластера, значение - номер документа\n",
    "doc_clast = defaultdict(list)\n",
    "for i,value in enumerate(vec):\n",
    "        doc_clast[value].append(i)\n"
   ]
  },
  {
   "cell_type": "code",
   "execution_count": 20,
   "metadata": {},
   "outputs": [
    {
     "data": {
      "text/plain": [
       "array([ 0.03704451,  0.85432847,  0.10862703])"
      ]
     },
     "execution_count": 20,
     "metadata": {},
     "output_type": "execute_result"
    }
   ],
   "source": [
    "pt_x[:,260]"
   ]
  },
  {
   "cell_type": "code",
   "execution_count": 23,
   "metadata": {},
   "outputs": [
    {
     "data": {
      "text/plain": [
       "155"
      ]
     },
     "execution_count": 23,
     "metadata": {},
     "output_type": "execute_result"
    }
   ],
   "source": [
    "len(test_doc_to_clast[2]) #91 54 155"
   ]
  },
  {
   "cell_type": "code",
   "execution_count": null,
   "metadata": {},
   "outputs": [],
   "source": []
  },
  {
   "cell_type": "code",
   "execution_count": null,
   "metadata": {
    "collapsed": true
   },
   "outputs": [],
   "source": []
  },
  {
   "cell_type": "code",
   "execution_count": 14,
   "metadata": {},
   "outputs": [
    {
     "name": "stdout",
     "output_type": "stream",
     "text": [
      "30\n"
     ]
    }
   ],
   "source": [
    "#подсчет статистики\n",
    "l2  = test_doc_to_clast[0] \n",
    "l1 = doc_clast[2]\n",
    "\n",
    "result=list(set(l1) & set(l2))\n",
    "print(len(result))\n",
    "#result"
   ]
  },
  {
   "cell_type": "code",
   "execution_count": 47,
   "metadata": {},
   "outputs": [
    {
     "data": {
      "text/plain": [
       "\"['американская модель и актриса эмили ратаковски снялась в клипе российского певца димы билана, сообщает lifenews.', 'клип на песню «неделимые» снимается в лос-анджелесе. соавтором композиции выступил михаил гуцериев, российский миллиардер и поэт-песенник. сумма гонорара эмили ратаковски не раскрывается.', 'ратаковски 24 года. она получила широкую известность после того, как снялась обнаженной в клипе американского певца робина тика blurred lines и love somebody группы maroon 5. она уже принимала участие в нескольких откровенных фотосессиях, снимок ратаковски появился на обложке турецкого gq. 31 марта телезвезда ким кардашьян ', 'поделилась', ' фотографией, на которой она и ратаковски топлес стоят у зеркала.', 'модель начала делать карьеру в кино, самый известный фильм с ее участием — триллер дэвида финчера «исчезнувшая». в ленте она сыграла любовницу главного героя энди фицджеральд.', 'в 2015 году журнал w magazine ', 'включил', ' ратаковски в десятку самых сексуальных современных моделей, проявляющих высокую активность в instagram.']\""
      ]
     },
     "execution_count": 47,
     "metadata": {},
     "output_type": "execute_result"
    }
   ],
   "source": [
    "x[26]"
   ]
  },
  {
   "cell_type": "code",
   "execution_count": 37,
   "metadata": {},
   "outputs": [
    {
     "name": "stderr",
     "output_type": "stream",
     "text": [
      "100%|█████████████████████████████████████| 8819/8819 [00:38<00:00, 228.61it/s]\n"
     ]
    },
    {
     "name": "stdout",
     "output_type": "stream",
     "text": [
      "40.44864591710302 seconds\n"
     ]
    },
    {
     "name": "stderr",
     "output_type": "stream",
     "text": [
      "100%|█████████████████████████████████████| 8819/8819 [00:32<00:00, 273.89it/s]\n"
     ]
    },
    {
     "name": "stdout",
     "output_type": "stream",
     "text": [
      "32.30015685336912 seconds\n"
     ]
    },
    {
     "name": "stderr",
     "output_type": "stream",
     "text": [
      "100%|█████████████████████████████████████| 8819/8819 [00:47<00:00, 185.48it/s]\n"
     ]
    },
    {
     "name": "stdout",
     "output_type": "stream",
     "text": [
      "47.656622134316876 seconds\n"
     ]
    }
   ],
   "source": [
    "start_time = time.clock()\n",
    "claster = 0\n",
    "MI_0 = mutual_information(claster)\n",
    "print (time.clock() - start_time, \"seconds\")\n",
    "\n",
    "start_time = time.clock()\n",
    "claster = 1\n",
    "MI_1 = mutual_information(claster)\n",
    "print (time.clock() - start_time, \"seconds\")\n",
    "\n",
    "\n",
    "start_time = time.clock()\n",
    "claster = 2\n",
    "MI_2 = mutual_information(claster)\n",
    "print (time.clock() - start_time, \"seconds\")"
   ]
  },
  {
   "cell_type": "code",
   "execution_count": null,
   "metadata": {
    "collapsed": true
   },
   "outputs": [],
   "source": []
  }
 ],
 "metadata": {
  "kernelspec": {
   "display_name": "Python 3",
   "language": "python",
   "name": "python3"
  },
  "language_info": {
   "codemirror_mode": {
    "name": "ipython",
    "version": 3
   },
   "file_extension": ".py",
   "mimetype": "text/x-python",
   "name": "python",
   "nbconvert_exporter": "python",
   "pygments_lexer": "ipython3",
   "version": "3.6.3"
  }
 },
 "nbformat": 4,
 "nbformat_minor": 2
}
